{
 "cells": [
  {
   "cell_type": "markdown",
   "metadata": {},
   "source": [
    " # Explore AMP-PD data available for the LID project"
   ]
  },
  {
   "cell_type": "markdown",
   "metadata": {},
   "source": [
    "## Load libs, env variables, utils, and get path to data"
   ]
  },
  {
   "cell_type": "code",
   "execution_count": 1,
   "metadata": {},
   "outputs": [],
   "source": [
    "# Use the os package to interact with the environment\n",
    "import os\n",
    "\n",
    "# Bring in Pandas for Dataframe functionality\n",
    "import pandas as pd\n",
    "\n",
    "# numpy for basics\n",
    "import numpy as np\n",
    "\n",
    "# To do tome regex ops\n",
    "import re\n",
    "\n",
    "# Use StringIO for working with file contents\n",
    "from io import StringIO\n",
    "\n",
    "# Enable IPython to display matplotlib graphs\n",
    "import matplotlib.pyplot as plt\n",
    "%matplotlib inline\n",
    "\n",
    "# Enable interaction with the FireCloud API\n",
    "from firecloud import api as fapi\n",
    "\n",
    "# Import the iPython HTML rendering for displaying links to Google Cloud Console\n",
    "from IPython.core.display import display, HTML\n",
    "\n",
    "# Import urllib modules for building URLs to Google Cloud Console\n",
    "import urllib.parse\n",
    "\n",
    "# BigQuery for querying data\n",
    "from google.cloud import bigquery\n",
    "\n",
    "import sys"
   ]
  },
  {
   "cell_type": "code",
   "execution_count": 2,
   "metadata": {
    "scrolled": true
   },
   "outputs": [
    {
     "name": "stdout",
     "output_type": "stream",
     "text": [
      "Requirement already satisfied: lifelines in /home/jupyter/.local/lib/python3.7/site-packages (0.27.1)\n",
      "Requirement already satisfied: pandas>=1.0.0 in /opt/conda/lib/python3.7/site-packages (from lifelines) (1.3.5)\n",
      "Requirement already satisfied: matplotlib>=3.0 in /opt/conda/lib/python3.7/site-packages (from lifelines) (3.5.2)\n",
      "Requirement already satisfied: autograd>=1.3 in /home/jupyter/.local/lib/python3.7/site-packages (from lifelines) (1.4)\n",
      "Requirement already satisfied: autograd-gamma>=0.3 in /home/jupyter/.local/lib/python3.7/site-packages (from lifelines) (0.5.0)\n",
      "Requirement already satisfied: formulaic>=0.2.2 in /home/jupyter/.local/lib/python3.7/site-packages (from lifelines) (0.4.0)\n",
      "Requirement already satisfied: numpy>=1.14.0 in /opt/conda/lib/python3.7/site-packages (from lifelines) (1.21.6)\n",
      "Requirement already satisfied: scipy>=1.2.0 in /opt/conda/lib/python3.7/site-packages (from lifelines) (1.7.3)\n",
      "Requirement already satisfied: future>=0.15.2 in /opt/conda/lib/python3.7/site-packages (from autograd>=1.3->lifelines) (0.18.2)\n",
      "Requirement already satisfied: interface-meta<2.0.0,>=1.2.0 in /home/jupyter/.local/lib/python3.7/site-packages (from formulaic>=0.2.2->lifelines) (1.3.0)\n",
      "Requirement already satisfied: typing-extensions<5.0.0,>=4.2.0 in /opt/conda/lib/python3.7/site-packages (from formulaic>=0.2.2->lifelines) (4.2.0)\n",
      "Requirement already satisfied: graphlib-backport<2.0.0,>=1.0.0 in /home/jupyter/.local/lib/python3.7/site-packages (from formulaic>=0.2.2->lifelines) (1.0.3)\n",
      "Requirement already satisfied: wrapt>=1.0 in /opt/conda/lib/python3.7/site-packages (from formulaic>=0.2.2->lifelines) (1.14.1)\n",
      "Requirement already satisfied: cached_property>=1.3.0 in /opt/conda/lib/python3.7/site-packages (from formulaic>=0.2.2->lifelines) (1.5.2)\n",
      "Requirement already satisfied: astor>=0.8 in /home/jupyter/.local/lib/python3.7/site-packages (from formulaic>=0.2.2->lifelines) (0.8.1)\n",
      "Requirement already satisfied: cycler>=0.10 in /opt/conda/lib/python3.7/site-packages (from matplotlib>=3.0->lifelines) (0.11.0)\n",
      "Requirement already satisfied: fonttools>=4.22.0 in /opt/conda/lib/python3.7/site-packages (from matplotlib>=3.0->lifelines) (4.33.3)\n",
      "Requirement already satisfied: packaging>=20.0 in /opt/conda/lib/python3.7/site-packages (from matplotlib>=3.0->lifelines) (21.3)\n",
      "Requirement already satisfied: python-dateutil>=2.7 in /opt/conda/lib/python3.7/site-packages (from matplotlib>=3.0->lifelines) (2.8.2)\n",
      "Requirement already satisfied: pyparsing>=2.2.1 in /opt/conda/lib/python3.7/site-packages (from matplotlib>=3.0->lifelines) (3.0.7)\n",
      "Requirement already satisfied: kiwisolver>=1.0.1 in /opt/conda/lib/python3.7/site-packages (from matplotlib>=3.0->lifelines) (1.4.2)\n",
      "Requirement already satisfied: pillow>=6.2.0 in /opt/conda/lib/python3.7/site-packages (from matplotlib>=3.0->lifelines) (9.1.1)\n",
      "Requirement already satisfied: pytz>=2017.3 in /opt/conda/lib/python3.7/site-packages (from pandas>=1.0.0->lifelines) (2022.1)\n",
      "Requirement already satisfied: six>=1.5 in /opt/conda/lib/python3.7/site-packages (from python-dateutil>=2.7->matplotlib>=3.0->lifelines) (1.16.0)\n",
      "\u001b[33mWARNING: There was an error checking the latest version of pip.\u001b[0m\u001b[33m\n",
      "\u001b[0mName: lifelines\n",
      "Version: 0.27.1\n",
      "Summary: Survival analysis in Python, including Kaplan Meier, Nelson Aalen and regression\n",
      "Home-page: https://github.com/CamDavidsonPilon/lifelines\n",
      "Author: Cameron Davidson-Pilon\n",
      "Author-email: cam.davidson.pilon@gmail.com\n",
      "License: MIT\n",
      "Location: /home/jupyter/.local/lib/python3.7/site-packages\n",
      "Requires: autograd, autograd-gamma, formulaic, matplotlib, numpy, pandas, scipy\n",
      "Required-by: \n"
     ]
    }
   ],
   "source": [
    "# pip install some python pkg to do cox proportional hazard analysis\n",
    "! pip install lifelines\n",
    "! pip show lifelines"
   ]
  },
  {
   "cell_type": "code",
   "execution_count": 3,
   "metadata": {},
   "outputs": [],
   "source": [
    "%%capture \n",
    "\n",
    "sys.path.insert(0, '/home/jupyter/.local/lib/python3.7/site-packages')\n",
    "from lifelines import CoxPHFitter"
   ]
  },
  {
   "cell_type": "code",
   "execution_count": 4,
   "metadata": {},
   "outputs": [],
   "source": [
    "BILLING_PROJECT_ID = os.environ['GOOGLE_PROJECT']\n",
    "WORKSPACE_NAMESPACE = os.environ['WORKSPACE_NAMESPACE']\n",
    "WORKSPACE_NAME = os.environ['WORKSPACE_NAME']\n",
    "WORKSPACE_BUCKET = os.environ['WORKSPACE_BUCKET']\n"
   ]
  },
  {
   "cell_type": "code",
   "execution_count": 5,
   "metadata": {},
   "outputs": [],
   "source": [
    "WORKSPACE_ATTRIBUTES = fapi.get_workspace(WORKSPACE_NAMESPACE, WORKSPACE_NAME).json().get('workspace',{}).get('attributes',{})\n",
    "\n",
    "GS_RELEASE_PATH = 'gs://amp-pd-data/releases/2021_v2-5release_0510'\n",
    "GS_CLINICAL_RELEASE_PATH = f'{GS_RELEASE_PATH}/clinical/'\n",
    "\n",
    "GS_WGS_RELEASE_PATH = 'gs://amp-pd-genomics/releases/2021_v2-5release_0510/wgs'\n",
    "GS_WGS_RELEASE_PLINK_PATH = os.path.join(GS_WGS_RELEASE_PATH, 'plink')\n",
    "\n",
    "BQ_RELEASE_DATASET = 'amp-pd-research.2021_v2-5release_0510'"
   ]
  },
  {
   "cell_type": "code",
   "execution_count": 6,
   "metadata": {},
   "outputs": [],
   "source": [
    "# Utility routine for printing a shell command before executing it\n",
    "def shell_do(command):\n",
    "    print(f'Executing: {command}')\n",
    "    !$command\n",
    "\n",
    "def shell_return(command):\n",
    "    print(f'Executing: {command}', file=sys.stderr)\n",
    "    output = !$command\n",
    "    return '\\n'.join(output)\n",
    "\n",
    "\n",
    "# Utility routine for display a message and a link\n",
    "def display_html_link(description, link_text, url):\n",
    "    html = f'''\n",
    "    <p>\n",
    "    </p>\n",
    "    <p>\n",
    "    {description}\n",
    "    <a target=_blank href=\"{url}\">{link_text}</a>.\n",
    "    </p>\n",
    "    '''\n",
    "\n",
    "    display(HTML(html))\n",
    "    \n",
    "# Utility routines for reading files from Google Cloud Storage\n",
    "def gcs_read_file(path):\n",
    "    \"\"\"Return the contents of a file in GCS\"\"\"\n",
    "    contents = !gsutil -u {BILLING_PROJECT_ID} cat {path}\n",
    "    return '\\n'.join(contents)\n",
    "    \n",
    "def gcs_read_csv(path, sep=None):\n",
    "    \"\"\"Return a DataFrame from the contents of a delimited file in GCS\"\"\"\n",
    "    return pd.read_csv(StringIO(gcs_read_file(path)), sep=sep, engine='python')\n",
    "\n",
    "# Utility routine for displaying a message and link to Cloud Console\n",
    "def link_to_cloud_console_gcs(description, link_text, gcs_path):\n",
    "    url = '{}?{}'.format(\n",
    "        os.path.join('https://console.cloud.google.com/storage/browser',\n",
    "                     gcs_path.replace(\"gs://\",\"\")),\n",
    "        urllib.parse.urlencode({'userProject': BILLING_PROJECT_ID}))\n",
    "\n",
    "    display_html_link(description, link_text, url)\n",
    "    \n",
    "# Get the data from a query\n",
    "def bq_query(query):\n",
    "    print(f'Executing: {query}', file=sys.stderr)\n",
    "    return pd.read_gbq(query, project_id=BILLING_PROJECT_ID, dialect='standard')\n",
    "\n",
    "# Utility routine for displaying a message and link to Cloud Console\n",
    "def link_to_cloud_console_gcs(description, link_text, gcs_path):\n",
    "    url = '{}?{}'.format(\n",
    "        os.path.join('https://console.cloud.google.com/storage/browser',\n",
    "                     gcs_path.replace(\"gs://\",\"\")),\n",
    "        urllib.parse.urlencode({'userProject': BILLING_PROJECT_ID}))\n",
    "\n",
    "    display_html_link(description, link_text, url)\n",
    "    \n",
    "# Utility routine for displaying a message and link to Cloud Console\n",
    "def link_to_cloud_console_bq(description, link_text, bq_dataset, bq_table=None):\n",
    "    project, dataset = bq_dataset.split('.', 1)\n",
    "    if bq_table:\n",
    "        page_params = {'page': 'table', 'p': project, 'd': dataset, 't': bq_table}\n",
    "    else:\n",
    "        page_params = {'page': 'dataset', 'p': project, 'd': dataset}\n",
    "    \n",
    "    url = '{}?{}'.format(\n",
    "        'https://console.cloud.google.com/bigquery',\n",
    "        urllib.parse.urlencode(page_params))\n",
    "\n",
    "    display_html_link(description, link_text, url)    \n",
    "\n",
    "# Utility routine for printing a query before executing it\n",
    "def bq_query(query):\n",
    "    \"\"\"Return the contents of a query against BigQuery\"\"\"\n",
    "    return pd.read_gbq(\n",
    "        query,\n",
    "        project_id=BILLING_PROJECT_ID,\n",
    "        dialect='standard')"
   ]
  },
  {
   "cell_type": "code",
   "execution_count": 7,
   "metadata": {},
   "outputs": [
    {
     "name": "stdout",
     "output_type": "stream",
     "text": [
      "Executing: gsutil -u terra-1cae21c2 ls gs://amp-pd-data/releases/2021_v2-5release_0510\n",
      "gs://amp-pd-data/releases/2021_v2-5release_0510/amp_pd_case_control.csv\n",
      "gs://amp-pd-data/releases/2021_v2-5release_0510/amp_pd_participant_wgs_duplicates.csv\n",
      "gs://amp-pd-data/releases/2021_v2-5release_0510/amp_pd_participants.csv\n",
      "gs://amp-pd-data/releases/2021_v2-5release_0510/rna_sample_inventory.csv\n",
      "gs://amp-pd-data/releases/2021_v2-5release_0510/wgs_gatk_joint_genotyping_samples.csv\n",
      "gs://amp-pd-data/releases/2021_v2-5release_0510/wgs_sample_inventory.csv\n",
      "gs://amp-pd-data/releases/2021_v2-5release_0510/clinical/\n"
     ]
    }
   ],
   "source": [
    "shell_do(f'gsutil -u {BILLING_PROJECT_ID} ls {GS_RELEASE_PATH}')\n",
    "#shell_do(f'gsutil -u {BILLING_PROJECT_ID} ls {GS_CLINICAL_RELEASE_PATH}')"
   ]
  },
  {
   "cell_type": "code",
   "execution_count": 8,
   "metadata": {
    "scrolled": true
   },
   "outputs": [
    {
     "name": "stdout",
     "output_type": "stream",
     "text": [
      "Executing: gsutil -mu terra-1cae21c2 ls gs://fc-509fb8f7-9df1-43ec-805d-e976c08ce034\n",
      "gs://fc-509fb8f7-9df1-43ec-805d-e976c08ce034/clinical_data/\n",
      "gs://fc-509fb8f7-9df1-43ec-805d-e976c08ce034/covar_files/\n",
      "gs://fc-509fb8f7-9df1-43ec-805d-e976c08ce034/notebooks/\n"
     ]
    }
   ],
   "source": [
    "shell_do(f'gsutil -mu {BILLING_PROJECT_ID} ls {WORKSPACE_BUCKET}')"
   ]
  },
  {
   "cell_type": "markdown",
   "metadata": {},
   "source": [
    "## Get and explore AMP-PD PD data"
   ]
  },
  {
   "cell_type": "code",
   "execution_count": 9,
   "metadata": {},
   "outputs": [
    {
     "name": "stdout",
     "output_type": "stream",
     "text": [
      "<class 'pandas.core.frame.DataFrame'>\n",
      "RangeIndex: 10772 entries, 0 to 10771\n",
      "Data columns (total 5 columns):\n",
      " #   Column                          Non-Null Count  Dtype \n",
      "---  ------                          --------------  ----- \n",
      " 0   participant_id                  10772 non-null  object\n",
      " 1   diagnosis_at_baseline           10772 non-null  object\n",
      " 2   diagnosis_latest                10772 non-null  object\n",
      " 3   case_control_other_at_baseline  10772 non-null  object\n",
      " 4   case_control_other_latest       10772 non-null  object\n",
      "dtypes: object(5)\n",
      "memory usage: 420.9+ KB\n"
     ]
    }
   ],
   "source": [
    "pd_case_control_df = gcs_read_csv(os.path.join(GS_RELEASE_PATH, 'amp_pd_case_control.csv'))\n",
    "pd_case_control_df.info()\n",
    "#pd_case_control_df.head()"
   ]
  },
  {
   "cell_type": "code",
   "execution_count": 10,
   "metadata": {},
   "outputs": [
    {
     "name": "stdout",
     "output_type": "stream",
     "text": [
      "No PD Nor Other Neurological Disorder        4312\n",
      "LBD                                          2614\n",
      "Parkinson's Disease                          2392\n",
      "Idiopathic PD                                1135\n",
      "Multiple System Atrophy                        71\n",
      "Progressive Supranuclear Palsy                 61\n",
      "Essential Tremor                               47\n",
      "Prodromal non-motor PD                         36\n",
      "Prodromal motor PD                             36\n",
      "Other Neurological Disorder(s)                 30\n",
      "Dementia With Lewy Bodies                      14\n",
      "Corticobasal Degeneration                       8\n",
      "Neuroleptic-Induced Parkinsonism                3\n",
      "Parkinsonism                                    3\n",
      "Possible Alzheimer's Disease                    3\n",
      "Vascular Parkinsonism                           2\n",
      "Fahr's Syndrome                                 1\n",
      "Alzheimer's Disease                             1\n",
      "Psychogenic Illness                             1\n",
      "Juvenile Autosomal Recessive Parkinsonism       1\n",
      "Olivopontocerebellar Atrophy                    1\n",
      "Name: LATEST_DX, dtype: int64\n"
     ]
    }
   ],
   "source": [
    "# Subset and keep only latest diagnosis \n",
    "pd_case_control_df_latest = pd_case_control_df[['participant_id', 'diagnosis_latest', 'case_control_other_latest']]\n",
    "pd_case_control_df_latest.columns = ['ID', 'LATEST_DX', 'CASE_CONTROL']\n",
    "\n",
    "#print(pd_case_control_df_noPPMI_latest.value_counts())\n",
    "print(pd_case_control_df_latest['LATEST_DX'].value_counts())"
   ]
  },
  {
   "cell_type": "code",
   "execution_count": 11,
   "metadata": {
    "scrolled": false
   },
   "outputs": [
    {
     "name": "stdout",
     "output_type": "stream",
     "text": [
      "Healthy Control                3377\n",
      "PD                             2987\n",
      "LBD                            2521\n",
      "Genetic Cohort Unaffected       403\n",
      "Genetic Cohort PD               272\n",
      "Genetic Registry Unaffected     245\n",
      "Genetic Registry PD             196\n",
      "Disease Control                 159\n",
      "SWEDD                            77\n",
      "Prodromal                        64\n",
      "NaN                               3\n",
      "Unknown                           1\n",
      "Name: ENROLL_STUDY_ARM, dtype: int64\n"
     ]
    }
   ],
   "source": [
    "# Grab the enrollment info so we know how each patient was recruited \n",
    "enrollment_df = gcs_read_csv(os.path.join(GS_CLINICAL_RELEASE_PATH, 'Enrollment.csv'))\n",
    "enrollment_subset_df = enrollment_df[['participant_id', 'study_arm']].copy()\n",
    "enrollment_subset_df.columns = ['ID', 'ENROLL_STUDY_ARM']\n",
    "\n",
    "print(enrollment_subset_df['ENROLL_STUDY_ARM'].value_counts(dropna=False))"
   ]
  },
  {
   "cell_type": "code",
   "execution_count": 12,
   "metadata": {
    "scrolled": true
   },
   "outputs": [
    {
     "name": "stdout",
     "output_type": "stream",
     "text": [
      "<class 'pandas.core.frame.DataFrame'>\n",
      "Int64Index: 11054 entries, 0 to 11053\n",
      "Data columns (total 4 columns):\n",
      " #   Column            Non-Null Count  Dtype \n",
      "---  ------            --------------  ----- \n",
      " 0   ID                11054 non-null  object\n",
      " 1   LATEST_DX         11054 non-null  object\n",
      " 2   CASE_CONTROL      11054 non-null  object\n",
      " 3   ENROLL_STUDY_ARM  10302 non-null  object\n",
      "dtypes: object(4)\n",
      "memory usage: 431.8+ KB\n"
     ]
    }
   ],
   "source": [
    "demo_enrollment_df = pd_case_control_df_latest.merge(enrollment_subset_df, on=\"ID\", how=\"left\")\n",
    "demo_enrollment_df.info()\n",
    "#demo_enrollment_df.head()"
   ]
  },
  {
   "cell_type": "code",
   "execution_count": 13,
   "metadata": {},
   "outputs": [
    {
     "name": "stdout",
     "output_type": "stream",
     "text": [
      "-9    4733\n",
      " 1    3358\n",
      " 2    2959\n",
      " 3       4\n",
      "Name: PD_PHENO, dtype: int64\n"
     ]
    },
    {
     "data": {
      "text/html": [
       "<div>\n",
       "<style scoped>\n",
       "    .dataframe tbody tr th:only-of-type {\n",
       "        vertical-align: middle;\n",
       "    }\n",
       "\n",
       "    .dataframe tbody tr th {\n",
       "        vertical-align: top;\n",
       "    }\n",
       "\n",
       "    .dataframe thead th {\n",
       "        text-align: right;\n",
       "    }\n",
       "</style>\n",
       "<table border=\"1\" class=\"dataframe\">\n",
       "  <thead>\n",
       "    <tr style=\"text-align: right;\">\n",
       "      <th></th>\n",
       "      <th>ID</th>\n",
       "      <th>LATEST_DX</th>\n",
       "      <th>CASE_CONTROL</th>\n",
       "      <th>ENROLL_STUDY_ARM</th>\n",
       "      <th>PD_PHENO</th>\n",
       "    </tr>\n",
       "  </thead>\n",
       "  <tbody>\n",
       "    <tr>\n",
       "      <th>2989</th>\n",
       "      <td>PP-3160</td>\n",
       "      <td>Idiopathic PD</td>\n",
       "      <td>Case</td>\n",
       "      <td>Healthy Control</td>\n",
       "      <td>3</td>\n",
       "    </tr>\n",
       "    <tr>\n",
       "      <th>3011</th>\n",
       "      <td>PP-3191</td>\n",
       "      <td>Idiopathic PD</td>\n",
       "      <td>Case</td>\n",
       "      <td>Healthy Control</td>\n",
       "      <td>3</td>\n",
       "    </tr>\n",
       "    <tr>\n",
       "      <th>3064</th>\n",
       "      <td>PP-3310</td>\n",
       "      <td>Idiopathic PD</td>\n",
       "      <td>Case</td>\n",
       "      <td>Healthy Control</td>\n",
       "      <td>3</td>\n",
       "    </tr>\n",
       "    <tr>\n",
       "      <th>3158</th>\n",
       "      <td>PP-3478</td>\n",
       "      <td>Idiopathic PD</td>\n",
       "      <td>Case</td>\n",
       "      <td>Healthy Control</td>\n",
       "      <td>3</td>\n",
       "    </tr>\n",
       "  </tbody>\n",
       "</table>\n",
       "</div>"
      ],
      "text/plain": [
       "           ID      LATEST_DX CASE_CONTROL ENROLL_STUDY_ARM  PD_PHENO\n",
       "2989  PP-3160  Idiopathic PD         Case  Healthy Control         3\n",
       "3011  PP-3191  Idiopathic PD         Case  Healthy Control         3\n",
       "3064  PP-3310  Idiopathic PD         Case  Healthy Control         3\n",
       "3158  PP-3478  Idiopathic PD         Case  Healthy Control         3"
      ]
     },
     "execution_count": 13,
     "metadata": {},
     "output_type": "execute_result"
    }
   ],
   "source": [
    "# Coding for PD_PHENO in AMP data\n",
    "    # 1=Healthy control with no neurological disorders\n",
    "    # 2=Positive PD case not in a genetic enrichment study, prodromal, or a SWEDD\n",
    "conditions = [\n",
    "    (demo_enrollment_df['ENROLL_STUDY_ARM'] == \"Healthy Control\") & (demo_enrollment_df['LATEST_DX'] == \"No PD Nor Other Neurological Disorder\"),\n",
    "    (demo_enrollment_df['ENROLL_STUDY_ARM'] == \"Healthy Control\") & (demo_enrollment_df['LATEST_DX'] == \"Idiopathic PD\"),\n",
    "    (demo_enrollment_df['ENROLL_STUDY_ARM'] == \"PD\") & (demo_enrollment_df['LATEST_DX'] == \"Parkinson's Disease\"),\n",
    "    (demo_enrollment_df['ENROLL_STUDY_ARM'] == \"PD\") & (demo_enrollment_df['LATEST_DX'] == \"Idiopathic PD\")\n",
    "]\n",
    "choices = [1,3,2,2]\n",
    "\n",
    "demo_enrollment_df['PD_PHENO'] = np.select(conditions, choices, default=-9)\n",
    "print(demo_enrollment_df['PD_PHENO'].value_counts(dropna=False))\n",
    "#demo_enrollment_df.loc[demo_enrollment_df['PD_PHENO'] == 3]"
   ]
  },
  {
   "cell_type": "code",
   "execution_count": 14,
   "metadata": {},
   "outputs": [
    {
     "name": "stdout",
     "output_type": "stream",
     "text": [
      "LBD           4586\n",
      "PPMI          1945\n",
      "PDBP          1606\n",
      "HBS           1189\n",
      "LCC            638\n",
      "STEADY-PD3     616\n",
      "SURE-PD3       261\n",
      "BIOFIND        213\n",
      "Name: COHORT, dtype: int64\n",
      "<class 'pandas.core.frame.DataFrame'>\n",
      "Int64Index: 11054 entries, 0 to 11053\n",
      "Data columns (total 6 columns):\n",
      " #   Column            Non-Null Count  Dtype \n",
      "---  ------            --------------  ----- \n",
      " 0   ID                11054 non-null  object\n",
      " 1   LATEST_DX         11054 non-null  object\n",
      " 2   CASE_CONTROL      11054 non-null  object\n",
      " 3   ENROLL_STUDY_ARM  10302 non-null  object\n",
      " 4   PD_PHENO          11054 non-null  int64 \n",
      " 5   COHORT            11054 non-null  object\n",
      "dtypes: int64(1), object(5)\n",
      "memory usage: 604.5+ KB\n"
     ]
    }
   ],
   "source": [
    "## Add study as a column \n",
    "# Add cohort column (Numpy's NAN for anything missing - though nothing should be missing)\n",
    "demo_enrollment_df['COHORT'] = np.where(demo_enrollment_df.ID.str.contains(\"LB-\"), \"LBD\",\n",
    "                               np.where(demo_enrollment_df.ID.str.contains(\"PD-\"), \"PDBP\",\n",
    "                               np.where(demo_enrollment_df.ID.str.contains(\"PP-\"), \"PPMI\",\n",
    "                               np.where(demo_enrollment_df.ID.str.contains(\"HB-\"), \"HBS\",\n",
    "                               np.where(demo_enrollment_df.ID.str.contains(\"LC-\"), \"LCC\",\n",
    "                               np.where(demo_enrollment_df.ID.str.contains(\"BF-\"), \"BIOFIND\",\n",
    "                               np.where(demo_enrollment_df.ID.str.contains(\"SU-\"), \"SURE-PD3\",\n",
    "                               np.where(demo_enrollment_df.ID.str.contains(\"SY-\"), \"STEADY-PD3\", np.nan))))))))\n",
    "\n",
    "print(demo_enrollment_df['COHORT'].value_counts(dropna=True))\n",
    "demo_enrollment_df.info()"
   ]
  },
  {
   "cell_type": "code",
   "execution_count": 15,
   "metadata": {},
   "outputs": [
    {
     "name": "stdout",
     "output_type": "stream",
     "text": [
      "<class 'pandas.core.frame.DataFrame'>\n",
      "Int64Index: 2959 entries, 2802 to 6609\n",
      "Data columns (total 6 columns):\n",
      " #   Column            Non-Null Count  Dtype \n",
      "---  ------            --------------  ----- \n",
      " 0   ID                2959 non-null   object\n",
      " 1   LATEST_DX         2959 non-null   object\n",
      " 2   CASE_CONTROL      2959 non-null   object\n",
      " 3   ENROLL_STUDY_ARM  2959 non-null   object\n",
      " 4   PD_PHENO          2959 non-null   int64 \n",
      " 5   COHORT            2959 non-null   object\n",
      "dtypes: int64(1), object(5)\n",
      "memory usage: 161.8+ KB\n"
     ]
    }
   ],
   "source": [
    "demo_enrollment_df_PD = demo_enrollment_df[demo_enrollment_df.PD_PHENO.eq(2)]\n",
    "len(demo_enrollment_df_PD.ID.unique())\n",
    "demo_enrollment_df_PD.info()\n",
    "#demo_enrollment_df_PD.head()"
   ]
  },
  {
   "cell_type": "markdown",
   "metadata": {},
   "source": [
    "## Load and explore MDSUPDRSIV data"
   ]
  },
  {
   "cell_type": "code",
   "execution_count": 16,
   "metadata": {
    "scrolled": false
   },
   "outputs": [
    {
     "name": "stdout",
     "output_type": "stream",
     "text": [
      "<class 'pandas.core.frame.DataFrame'>\n",
      "RangeIndex: 17 entries, 0 to 16\n",
      "Data columns (total 8 columns):\n",
      " #   Column         Non-Null Count  Dtype \n",
      "---  ------         --------------  ----- \n",
      " 0   TableName      17 non-null     object\n",
      " 1   ColumnName     17 non-null     object\n",
      " 2   Title          17 non-null     object\n",
      " 3   Description    17 non-null     object\n",
      " 4   Required       17 non-null     bool  \n",
      " 5   DataType       17 non-null     object\n",
      " 6   DataTypeRange  7 non-null      object\n",
      " 7   UniqueValues   6 non-null      object\n",
      "dtypes: bool(1), object(7)\n",
      "memory usage: 1.1+ KB\n"
     ]
    }
   ],
   "source": [
    "MDSUPDRSIV_dict = gcs_read_csv(os.path.join(GS_CLINICAL_RELEASE_PATH, 'MDS_UPDRS_Part_IV_dictionary.csv'))\n",
    "MDSUPDRSIV_dict.info()\n",
    "#with pd.option_context('display.max_rows', None, 'display.max_columns', None):  # more options can be specified also\n",
    "#    display(MDSUPDRSIV_dict)"
   ]
  },
  {
   "cell_type": "markdown",
   "metadata": {},
   "source": [
    "### Potential data that can be used in LID study"
   ]
  },
  {
   "cell_type": "code",
   "execution_count": 17,
   "metadata": {
    "scrolled": true
   },
   "outputs": [
    {
     "name": "stdout",
     "output_type": "stream",
     "text": [
      "COHORT      visit_month\n",
      "BIOFIND      0.0            118\n",
      "             0.5             15\n",
      "HBS          0.0            639\n",
      "PDBP         0.0           1400\n",
      "             6.0            591\n",
      "             12.0           560\n",
      "             18.0           529\n",
      "             24.0           493\n",
      "             30.0           431\n",
      "             36.0           395\n",
      "             42.0           159\n",
      "             48.0           120\n",
      "             54.0            11\n",
      "             60.0            36\n",
      "PPMI        -1.0             45\n",
      "             0.0            374\n",
      "             3.0             25\n",
      "             6.0            241\n",
      "             9.0            156\n",
      "             12.0           475\n",
      "             18.0           484\n",
      "             24.0           570\n",
      "             30.0           501\n",
      "             36.0           489\n",
      "             42.0           460\n",
      "             48.0           446\n",
      "             54.0           379\n",
      "             60.0           377\n",
      "             72.0           272\n",
      "             84.0           237\n",
      "             96.0           107\n",
      "             108.0           14\n",
      "STEADY-PD3   0.0            294\n",
      "             36.0           279\n",
      "SURE-PD3     0.0            261\n",
      "             6.0            248\n",
      "             12.0           235\n",
      "             18.0           176\n",
      "             24.0           194\n",
      "             30.0           223\n",
      "dtype: int64\n",
      "<class 'pandas.core.frame.DataFrame'>\n",
      "RangeIndex: 13059 entries, 0 to 13058\n",
      "Data columns (total 6 columns):\n",
      " #   Column          Non-Null Count  Dtype  \n",
      "---  ------          --------------  -----  \n",
      " 0   ID              13059 non-null  object \n",
      " 1   GUID            7407 non-null   object \n",
      " 2   visit_name      13059 non-null  object \n",
      " 3   visit_month     13059 non-null  float64\n",
      " 4   MDS_UPDRS_IV_1  11954 non-null  float64\n",
      " 5   COHORT          13059 non-null  object \n",
      "dtypes: float64(2), object(4)\n",
      "memory usage: 612.3+ KB\n"
     ]
    }
   ],
   "source": [
    "MDSUPDRSIV = gcs_read_csv(os.path.join(GS_CLINICAL_RELEASE_PATH, 'MDS_UPDRS_Part_IV.csv'))\n",
    "MDSUPDRSIV = MDSUPDRSIV[[\"participant_id\", \"GUID\", \"visit_name\", \"visit_month\", \"code_upd2401_time_spent_with_dyskinesias\"]]\n",
    "MDSUPDRSIV.columns = ['ID', 'GUID', 'visit_name', 'visit_month', 'MDS_UPDRS_IV_1']\n",
    "\n",
    "## Add study as a column \n",
    "# Add cohort column (Numpy's NAN for anything missing - though nothing should be missing)\n",
    "MDSUPDRSIV['COHORT'] = np.where(MDSUPDRSIV.ID.str.contains(\"LB-\"), \"LBD\",\n",
    "                               np.where(MDSUPDRSIV.ID.str.contains(\"PD-\"), \"PDBP\",\n",
    "                               np.where(MDSUPDRSIV.ID.str.contains(\"PP-\"), \"PPMI\",\n",
    "                               np.where(MDSUPDRSIV.ID.str.contains(\"HB-\"), \"HBS\",\n",
    "                               np.where(MDSUPDRSIV.ID.str.contains(\"LC-\"), \"LCC\",\n",
    "                               np.where(MDSUPDRSIV.ID.str.contains(\"BF-\"), \"BIOFIND\",\n",
    "                               np.where(MDSUPDRSIV.ID.str.contains(\"SU-\"), \"SURE-PD3\",\n",
    "                               np.where(MDSUPDRSIV.ID.str.contains(\"SY-\"), \"STEADY-PD3\", np.nan))))))))\n",
    "\n",
    "print(MDSUPDRSIV[['COHORT', 'visit_month']].value_counts(dropna=True).sort_index())\n",
    "MDSUPDRSIV.info()\n",
    "\n",
    "\n"
   ]
  },
  {
   "cell_type": "markdown",
   "metadata": {},
   "source": [
    "    **CONCLUSSIONS**  \n",
    "PDBP and SURE-PD3 seems good candidates to be used in the LID analysis"
   ]
  },
  {
   "cell_type": "code",
   "execution_count": 18,
   "metadata": {
    "scrolled": false
   },
   "outputs": [
    {
     "name": "stdout",
     "output_type": "stream",
     "text": [
      "<class 'pandas.core.frame.DataFrame'>\n",
      "Int64Index: 4515 entries, 0 to 4514\n",
      "Data columns (total 10 columns):\n",
      " #   Column            Non-Null Count  Dtype  \n",
      "---  ------            --------------  -----  \n",
      " 0   ID                4515 non-null   object \n",
      " 1   LATEST_DX         4515 non-null   object \n",
      " 2   CASE_CONTROL      4515 non-null   object \n",
      " 3   ENROLL_STUDY_ARM  4515 non-null   object \n",
      " 4   PD_PHENO          4515 non-null   int64  \n",
      " 5   GUID              4515 non-null   object \n",
      " 6   visit_name        4515 non-null   object \n",
      " 7   visit_month       4515 non-null   float64\n",
      " 8   MDS_UPDRS_IV_1    3821 non-null   float64\n",
      " 9   COHORT            4515 non-null   object \n",
      "dtypes: float64(2), int64(1), object(7)\n",
      "memory usage: 388.0+ KB\n"
     ]
    }
   ],
   "source": [
    "demo_enrollment_df_PD_filtered = demo_enrollment_df_PD[demo_enrollment_df_PD['ID'].str.contains(\"PD-|SU-\")]\n",
    "demo_enrollment_df_PD_filtered = demo_enrollment_df_PD_filtered.drop('COHORT', axis=1)\n",
    "demo_enrollment_df_PD_filtered\n",
    "\n",
    "# We inner join the demo_PD file. Then, we come up with all PD patients from \n",
    "MDSUPDRSIV_DEMO = demo_enrollment_df_PD_filtered.drop_duplicates().merge(MDSUPDRSIV, \n",
    "                                                                         left_on=['ID'], right_on=['ID'],\n",
    "                                                                         how='inner')\n",
    "\n",
    "MDSUPDRSIV_DEMO.info()"
   ]
  },
  {
   "cell_type": "markdown",
   "metadata": {},
   "source": [
    "### Explore NAs in the outcome. Look at NAs stratified by cohort"
   ]
  },
  {
   "cell_type": "code",
   "execution_count": 19,
   "metadata": {
    "scrolled": true
   },
   "outputs": [
    {
     "data": {
      "text/plain": [
       "COHORT    visit_month\n",
       "PDBP      0.0              0\n",
       "          6.0              0\n",
       "          12.0             0\n",
       "          18.0             0\n",
       "          24.0             0\n",
       "          30.0             0\n",
       "          36.0             0\n",
       "          42.0             0\n",
       "          48.0             0\n",
       "          54.0             0\n",
       "          60.0             0\n",
       "SURE-PD3  0.0            258\n",
       "          6.0            189\n",
       "          12.0           109\n",
       "          18.0            52\n",
       "          24.0            43\n",
       "          30.0            43\n",
       "Name: MDS_UPDRS_IV_1, dtype: int64"
      ]
     },
     "execution_count": 19,
     "metadata": {},
     "output_type": "execute_result"
    }
   ],
   "source": [
    "MDSUPDRSIV_DEMO.MDS_UPDRS_IV_1.isnull().groupby([MDSUPDRSIV_DEMO['COHORT'], MDSUPDRSIV_DEMO['visit_month']]).sum().astype(int)"
   ]
  },
  {
   "cell_type": "code",
   "execution_count": 20,
   "metadata": {
    "scrolled": false
   },
   "outputs": [
    {
     "data": {
      "text/plain": [
       "COHORT    visit_month\n",
       "PDBP      0.0            47\n",
       "          6.0            30\n",
       "          12.0           19\n",
       "          18.0           23\n",
       "          24.0           29\n",
       "          30.0           15\n",
       "          36.0           26\n",
       "          42.0           15\n",
       "          48.0            5\n",
       "          54.0            1\n",
       "          60.0            4\n",
       "SURE-PD3  0.0             0\n",
       "          6.0             0\n",
       "          12.0            0\n",
       "          18.0            3\n",
       "          24.0            2\n",
       "          30.0            0\n",
       "Name: MDS_UPDRS_IV_1, dtype: int64"
      ]
     },
     "execution_count": 20,
     "metadata": {},
     "output_type": "execute_result"
    }
   ],
   "source": [
    "#Look at the number of ppl meeting the outcome at each visit\n",
    "MDSUPDRSIV_DEMO.MDS_UPDRS_IV_1.ge(2).groupby([MDSUPDRSIV_DEMO['COHORT'], MDSUPDRSIV_DEMO['visit_month']]).sum().astype(int)\n"
   ]
  },
  {
   "cell_type": "markdown",
   "metadata": {},
   "source": [
    "### Conclussion"
   ]
  },
  {
   "cell_type": "markdown",
   "metadata": {},
   "source": [
    "**CONCLUSSION**  \n",
    "I think the NA pattern we see in SURE-PD3 is because MDS-UPDRS IV assessment is not taken until L-dopa treatment starts\n",
    "\n",
    "\n",
    "**Make decision regarding using SURE-PD3 data or not**\n",
    "\n",
    "DECISION: There are almost no people developing dyskinesias in SURE-PD. I will exclude this, and work only with PDBP"
   ]
  },
  {
   "cell_type": "markdown",
   "metadata": {},
   "source": [
    "## PDBP QC"
   ]
  },
  {
   "cell_type": "code",
   "execution_count": 21,
   "metadata": {},
   "outputs": [
    {
     "data": {
      "text/plain": [
       "1404"
      ]
     },
     "execution_count": 21,
     "metadata": {},
     "output_type": "execute_result"
    }
   ],
   "source": [
    "MDSUPDRSIV_DEMO_PDBPD = MDSUPDRSIV[MDSUPDRSIV['ID'].str.contains(\"PD-\")]\n",
    "MDSUPDRSIV_DEMO_PDBPD.head()\n",
    "\n",
    "MDSUPDRSIV_DEMO_PDBPD.ID.nunique()\n"
   ]
  },
  {
   "cell_type": "markdown",
   "metadata": {},
   "source": [
    "### Remove ppl that have non PD diagnosis"
   ]
  },
  {
   "cell_type": "code",
   "execution_count": 22,
   "metadata": {},
   "outputs": [
    {
     "data": {
      "text/plain": [
       "827"
      ]
     },
     "execution_count": 22,
     "metadata": {},
     "output_type": "execute_result"
    }
   ],
   "source": [
    "# We inner join the demo_PD file. Then, we come up with all PD patients from \n",
    "MDSUPDRSIV_DEMO_PDBPD = demo_enrollment_df_PD_filtered.drop_duplicates().merge(MDSUPDRSIV_DEMO_PDBPD, \n",
    "                                                                          left_on=['ID'], right_on=['ID'],\n",
    "                                                                          how='inner')\n",
    "MDSUPDRSIV_DEMO_PDBPD.head()\n",
    "MDSUPDRSIV_DEMO_PDBPD.ID.nunique()"
   ]
  },
  {
   "cell_type": "markdown",
   "metadata": {},
   "source": [
    "### Remove people that have never had levodopa during the length of the study"
   ]
  },
  {
   "cell_type": "code",
   "execution_count": 23,
   "metadata": {},
   "outputs": [
    {
     "name": "stdout",
     "output_type": "stream",
     "text": [
      "<class 'pandas.core.frame.DataFrame'>\n",
      "RangeIndex: 28727 entries, 0 to 28726\n",
      "Data columns (total 20 columns):\n",
      " #   Column                                          Non-Null Count  Dtype  \n",
      "---  ------                                          --------------  -----  \n",
      " 0   participant_id                                  28727 non-null  object \n",
      " 1   GUID                                            9166 non-null   object \n",
      " 2   visit_name                                      28727 non-null  object \n",
      " 3   visit_month                                     27724 non-null  float64\n",
      " 4   diagnosis                                       26093 non-null  object \n",
      " 5   initial_diagnosis                               252 non-null    object \n",
      " 6   most_recent_diagnosis                           249 non-null    object \n",
      " 7   change_in_diagnosis                             826 non-null    object \n",
      " 8   change_in_diagnosis_months_after_baseline       14 non-null     float64\n",
      " 9   surgery_for_parkinson_disease                   100 non-null    object \n",
      " 10  pd_diagnosis_months_after_baseline              1628 non-null   float64\n",
      " 11  age_at_diagnosis                                4638 non-null   float64\n",
      " 12  pd_medication_initiation_months_after_baseline  438 non-null    float64\n",
      " 13  pd_medication_start_months_after_baseline       1383 non-null   float64\n",
      " 14  use_of_pd_medication                            9353 non-null   object \n",
      " 15  pd_medication_recent_use_months_after_baseline  4557 non-null   float64\n",
      " 16  on_levodopa                                     16313 non-null  object \n",
      " 17  on_dopamine_agonist                             14781 non-null  object \n",
      " 18  on_other_pd_medications                         16542 non-null  object \n",
      " 19  diagnosis_type                                  4493 non-null   object \n",
      "dtypes: float64(7), object(13)\n",
      "memory usage: 4.4+ MB\n",
      "Levodopa info values [nan 'Yes' 'No']\n",
      "\n",
      "Number of PD patients with medical history 827\n"
     ]
    }
   ],
   "source": [
    "medical_hist = gcs_read_csv(os.path.join(GS_CLINICAL_RELEASE_PATH, 'PD_Medical_History.csv'))\n",
    "medical_hist.info()\n",
    "#medical_hist.head()\n",
    "print(\"Levodopa info values\", medical_hist.on_levodopa.unique())\n",
    "\n",
    "\n",
    "medical_hist_PDBP = medical_hist[medical_hist[\"participant_id\"].isin(MDSUPDRSIV_DEMO_PDBPD.ID.unique())]\n",
    "medical_hist_PDBP.shape\n",
    "\n",
    "#Checking we have the expacted number of PD patients\n",
    "\n",
    "print(\"\\nNumber of PD patients with medical history\" ,len(medical_hist_PDBP.participant_id.unique()))"
   ]
  },
  {
   "cell_type": "code",
   "execution_count": 24,
   "metadata": {},
   "outputs": [
    {
     "name": "stdout",
     "output_type": "stream",
     "text": [
      "\n",
      "Number of PD patients that have taken Leovodpa at least once 717\n"
     ]
    }
   ],
   "source": [
    "medical_hist_PDBP_LDOPA = medical_hist_PDBP.loc[(medical_hist_PDBP['on_levodopa']=='Yes')]\n",
    "print(\"\\nNumber of PD patients that have taken Leovodpa at least once\" ,len(medical_hist_PDBP_LDOPA.participant_id.unique()))\n",
    "medical_hist_PDBP_LDOPA.head()\n",
    "\n",
    "# We save these patients IDs\n",
    "PD_IDs_QC = set(medical_hist_PDBP_LDOPA.participant_id.unique())"
   ]
  },
  {
   "cell_type": "code",
   "execution_count": 25,
   "metadata": {
    "scrolled": true
   },
   "outputs": [
    {
     "data": {
      "text/plain": [
       "array(['Yes'], dtype=object)"
      ]
     },
     "execution_count": 25,
     "metadata": {},
     "output_type": "execute_result"
    }
   ],
   "source": [
    "medical_hist_PDBP_LDOPA.on_levodopa.unique()"
   ]
  },
  {
   "cell_type": "markdown",
   "metadata": {},
   "source": [
    "### Identify ppl with disease duration from BL to diagnosis > 10 years\n",
    "\n",
    "Rationale of doing this is that the period of uncertainty is too wide.  \n",
    "These people could have developed LID any time within those 6 years  \n",
    "Then, treatment amendment according to LID could prevent us from detecting potential LID devevelopers"
   ]
  },
  {
   "cell_type": "code",
   "execution_count": 26,
   "metadata": {},
   "outputs": [
    {
     "name": "stdout",
     "output_type": "stream",
     "text": [
      "Number of samples with AAD data: 696\n"
     ]
    }
   ],
   "source": [
    "#medical_hist_PDBP_LDOPA_BL = medical_hist_PDBP_LDOPA[\n",
    "#    medical_hist_PDBP_LDOPA[[\"participant_id\", \"age_at_diagnosis\", \"visit_name\"]][\"visit_name\"] == \"M0\"]\n",
    "#medical_hist_PDBP_LDOPA_BL\n",
    "AAD = medical_hist_PDBP_LDOPA[[\"participant_id\", \"visit_name\", \"age_at_diagnosis\"]][medical_hist_PDBP_LDOPA['age_at_diagnosis'].notnull()]\n",
    "# Get all non na entries a\n",
    "AAD_QC = AAD.drop_duplicates(subset = \"participant_id\")\n",
    "\n",
    "\n",
    "# Filter the AAD_QC by the total number of samples with \n",
    "\n",
    "# We are loosing some samples that do not have AAD\n",
    "print(\"Number of samples with AAD data:\",AAD_QC.shape[0])\n",
    "#print(AAD_QC.head())\n",
    "\n"
   ]
  },
  {
   "cell_type": "markdown",
   "metadata": {},
   "source": [
    "#### Keep LID developers missing AAD"
   ]
  },
  {
   "cell_type": "code",
   "execution_count": 27,
   "metadata": {},
   "outputs": [
    {
     "name": "stdout",
     "output_type": "stream",
     "text": [
      "Number of samples with AAD data: 696\n",
      "\n",
      "Number of PD patients that have AAD including three imputed samples 700\n"
     ]
    }
   ],
   "source": [
    "AAD = medical_hist_PDBP_LDOPA[[\"participant_id\", \"visit_name\", \"age_at_diagnosis\"]][medical_hist_PDBP_LDOPA['age_at_diagnosis'].notnull()]\n",
    "# Get all non na entries a\n",
    "AAD_QC = AAD.drop_duplicates(subset = \"participant_id\")\n",
    "\n",
    "# We are loosing some samples that do not have AAD\n",
    "print(\"Number of samples with AAD data:\",AAD_QC.shape[0])\n",
    "\n",
    "# Keep people missing AAD and developing LID. \n",
    "# If they are LID developers I will consier includind them\n",
    "AAD_MISSING = set(PD_IDs_QC).difference(set(list(AAD_QC.participant_id)))\n",
    "\n",
    "# Check if AAD_MISSING ppl develop dyskinesias\n",
    "MDSUPDRSIV_AAD_MISSING = MDSUPDRSIV_DEMO_PDBPD[MDSUPDRSIV_DEMO_PDBPD[\"ID\"].isin(AAD_MISSING)]\n",
    "MDSUPDRSIV_AAD_MISSING.MDS_UPDRS_IV_1.ge(2).groupby([MDSUPDRSIV_AAD_MISSING['COHORT'], MDSUPDRSIV_AAD_MISSING['visit_month']]).sum().astype(int)\n",
    "\n",
    "# Get the IIDs of the three people that develop LID and that are missing AAD.\n",
    "LID_AADMISSING = set(MDSUPDRSIV_AAD_MISSING[MDSUPDRSIV_AAD_MISSING.MDS_UPDRS_IV_1.ge(2)][\"ID\"])\n",
    "\n",
    "\n",
    "# We exclude the LID_AADMISSING ppl from the AAD_MISSING set\n",
    "AAD_MISSING_EXCLUDE = AAD_MISSING - LID_AADMISSING\n",
    "[PD_IDs_QC.remove(i) for i in AAD_MISSING_EXCLUDE]\n",
    "print(\"\\nNumber of PD patients that have AAD including three imputed samples\" ,len(PD_IDs_QC))\n",
    "\n",
    "# Then, we include these 3 ppl in AAOD_QC\n",
    "#AAD = medical_hist_PDBP_LDOPA[[\"participant_id\", \"visit_name\", \"age_at_diagnosis\"]][medical_hist_PDBP_LDOPA[\"participant_id\"].isin(PD_IDs_QC)]\n",
    "#AAD_QC = AAD.drop_duplicates(subset = \"participant_id\")\n",
    "#print(\"Number of samples with AAD data including 3 LID developers:\",AAD_QC.shape[0])"
   ]
  },
  {
   "cell_type": "code",
   "execution_count": 28,
   "metadata": {},
   "outputs": [
    {
     "data": {
      "text/plain": [
       "700"
      ]
     },
     "execution_count": 28,
     "metadata": {},
     "output_type": "execute_result"
    }
   ],
   "source": [
    "len(PD_IDs_QC)"
   ]
  },
  {
   "cell_type": "code",
   "execution_count": 29,
   "metadata": {
    "scrolled": true
   },
   "outputs": [
    {
     "name": "stdout",
     "output_type": "stream",
     "text": [
      "<class 'pandas.core.frame.DataFrame'>\n",
      "RangeIndex: 11226 entries, 0 to 11225\n",
      "Data columns (total 9 columns):\n",
      " #   Column                 Non-Null Count  Dtype \n",
      "---  ------                 --------------  ----- \n",
      " 0   participant_id         11226 non-null  object\n",
      " 1   GUID                   3603 non-null   object\n",
      " 2   visit_name             11226 non-null  object\n",
      " 3   visit_month            11226 non-null  int64 \n",
      " 4   age_at_baseline        11226 non-null  int64 \n",
      " 5   sex                    11226 non-null  object\n",
      " 6   ethnicity              6621 non-null   object\n",
      " 7   race                   11207 non-null  object\n",
      " 8   education_level_years  6640 non-null   object\n",
      "dtypes: int64(2), object(7)\n",
      "memory usage: 789.5+ KB\n"
     ]
    }
   ],
   "source": [
    "# get age at BL from demographics df and AAD from medical history. Then merge\n",
    "demographics = gcs_read_csv(os.path.join(GS_CLINICAL_RELEASE_PATH, 'Demographics.csv'))\n",
    "demographics.info()\n",
    "\n",
    "demo_AAD = pd.merge(demographics[demographics[\"visit_name\"] == \"M0\"],\n",
    "                    AAD_QC[[\"participant_id\", \"age_at_diagnosis\"]],\n",
    "                    on = \"participant_id\",\n",
    "                    how = \"right\")\n",
    "\n",
    "# Calculate disease duration from diagnosis\n",
    "demo_AAD[\"DIS_DUR\"] = demo_AAD.age_at_baseline - demo_AAD.age_at_diagnosis\n",
    "\n",
    "demo_AAD_DISDURLONG = list(demo_AAD[demo_AAD.DIS_DUR.ge(9)].participant_id)\n",
    "len(demo_AAD_DISDURLONG)\n",
    "\n",
    "# There are 70 ppl with long disease duration.\n",
    "# We will perform an initial run with and without including these\n",
    "\n",
    "MDSUPDRSIV_DEMO_PDBPD = MDSUPDRSIV_DEMO_PDBPD[~MDSUPDRSIV_DEMO_PDBPD[\"ID\"].isin(demo_AAD_DISDURLONG)]\n"
   ]
  },
  {
   "cell_type": "code",
   "execution_count": 30,
   "metadata": {},
   "outputs": [
    {
     "data": {
      "text/plain": [
       "619"
      ]
     },
     "execution_count": 30,
     "metadata": {},
     "output_type": "execute_result"
    }
   ],
   "source": [
    "MDSUPDRSIV_DEMO_PDBPD.ID.unique().size"
   ]
  },
  {
   "cell_type": "markdown",
   "metadata": {},
   "source": [
    "### Remove patients that only have CS data"
   ]
  },
  {
   "cell_type": "code",
   "execution_count": 31,
   "metadata": {},
   "outputs": [
    {
     "name": "stdout",
     "output_type": "stream",
     "text": [
      "\n",
      "\n",
      " 345 Patients with longitudinal data available\n"
     ]
    }
   ],
   "source": [
    "# Look at the number of entries at each visit\n",
    "#MDSUPDRSIV_DEMO_PDBPD.groupby(['visit_name'])['ID'].count()\n",
    "\n",
    "ID_COUNTS = MDSUPDRSIV_DEMO_PDBPD.groupby(['ID'])['visit_name'].size().reset_index(name='counts')\n",
    "\n",
    "ID_EXCLUDE = list(ID_COUNTS[ID_COUNTS.counts.eq(1)].ID)\n",
    "\n",
    "MDSUPDRSIV_DEMO_PDBPD_LG=MDSUPDRSIV_DEMO_PDBPD[~MDSUPDRSIV_DEMO_PDBPD[\"ID\"].isin(ID_EXCLUDE)]\n",
    "\n",
    "MDSUPDRSIV_DEMO_PDBPD_LG.shape\n",
    "\n",
    "print(\"\\n\\n\",len(MDSUPDRSIV_DEMO_PDBPD_LG.ID.unique()),\"Patients with longitudinal data available\")\n",
    "#MDSUPDRSIV_DEMO_PDBPD_LG.head()"
   ]
  },
  {
   "cell_type": "code",
   "execution_count": 32,
   "metadata": {
    "scrolled": true
   },
   "outputs": [
    {
     "data": {
      "text/plain": [
       "visit_name\n",
       "M0     345\n",
       "M12    314\n",
       "M18    289\n",
       "M24    277\n",
       "M30    248\n",
       "M36    215\n",
       "M42    101\n",
       "M48     72\n",
       "M54      5\n",
       "M6     334\n",
       "M60     17\n",
       "Name: visit_name, dtype: int64"
      ]
     },
     "execution_count": 32,
     "metadata": {},
     "output_type": "execute_result"
    }
   ],
   "source": [
    "MDSUPDRSIV_DEMO_PDBPD_LG.groupby(['visit_name'])['visit_name'].count()"
   ]
  },
  {
   "cell_type": "markdown",
   "metadata": {},
   "source": [
    "### Remove left censored people\n",
    "\n",
    "In 1.3.2 we could see how there is a total of 45 PD patients that already had dyskinesias at BL.\n",
    "Remove these.\n"
   ]
  },
  {
   "cell_type": "code",
   "execution_count": 33,
   "metadata": {},
   "outputs": [
    {
     "name": "stdout",
     "output_type": "stream",
     "text": [
      "\n",
      "\n",
      " 331 No Left censored patients\n"
     ]
    }
   ],
   "source": [
    "# Get baseline data and retrieve the IDs of ppl with MDSUDPRS_IV ge(2)\n",
    "\n",
    "CENSORED_PATIENTS = list(MDSUPDRSIV_DEMO_PDBPD_LG.loc[(MDSUPDRSIV_DEMO_PDBPD_LG['visit_name']==\"M0\") & \n",
    "                             (MDSUPDRSIV_DEMO_PDBPD_LG['MDS_UPDRS_IV_1']>=2)].ID)\n",
    "\n",
    "MDSUPDRSIV_DEMO_PDBPD_LG_FILT=MDSUPDRSIV_DEMO_PDBPD_LG[~MDSUPDRSIV_DEMO_PDBPD_LG[\"ID\"].isin(CENSORED_PATIENTS)]\n",
    "\n",
    "MDSUPDRSIV_DEMO_PDBPD_LG_FILT.shape\n",
    "print(\"\\n\\n\",len(MDSUPDRSIV_DEMO_PDBPD_LG_FILT.ID.unique()),\"No Left censored patients\")"
   ]
  },
  {
   "cell_type": "markdown",
   "metadata": {},
   "source": [
    "### Time to LID outcomes and getting all covariates"
   ]
  },
  {
   "cell_type": "markdown",
   "metadata": {},
   "source": [
    "#### Get COVARIATES"
   ]
  },
  {
   "cell_type": "code",
   "execution_count": 45,
   "metadata": {},
   "outputs": [
    {
     "name": "stdout",
     "output_type": "stream",
     "text": [
      "Check the total of ppl with AAB NAs:  0\n",
      "PPL WITH LONG DISEASE DURATION:  4\n",
      "<class 'pandas.core.frame.DataFrame'>\n",
      "Int64Index: 330 entries, 0 to 330\n",
      "Data columns (total 9 columns):\n",
      " #   Column            Non-Null Count  Dtype  \n",
      "---  ------            --------------  -----  \n",
      " 0   ID                330 non-null    object \n",
      " 1   participant_id    330 non-null    object \n",
      " 2   age_at_baseline   330 non-null    int64  \n",
      " 3   sex               330 non-null    int64  \n",
      " 4   age_at_diagnosis  298 non-null    float64\n",
      " 5   AAD_MISSING       330 non-null    int64  \n",
      " 6   AAD_IMPUTED       330 non-null    float64\n",
      " 7   DIS_DUR           330 non-null    float64\n",
      " 8   LONG_DISDUR       330 non-null    int64  \n",
      "dtypes: float64(3), int64(4), object(2)\n",
      "memory usage: 25.8+ KB\n",
      "\n",
      "Checking disease duration is okey \n",
      "\n",
      "Empty DataFrame\n",
      "Columns: [ID, participant_id, age_at_baseline, sex, age_at_diagnosis, AAD_MISSING, AAD_IMPUTED, DIS_DUR, LONG_DISDUR]\n",
      "Index: []\n",
      "Check the number of MDSPUPDRSIII_BL NAs:  0\n"
     ]
    }
   ],
   "source": [
    "# We will use the list of PDBP patients saved in 1.4.3 section\n",
    "# Then, get demographics\n",
    "PD_IDs_QC = list(MDSUPDRSIV_DEMO_PDBPD_LG_FILT.ID.unique())\n",
    "PDBP_QC = pd.merge(pd.DataFrame(PD_IDs_QC, columns =['ID']),\n",
    "                   demographics[[\"participant_id\", \"age_at_baseline\", \"sex\"]],\n",
    "                   left_on = \"ID\", right_on = \"participant_id\",\n",
    "                   how = \"left\")\n",
    "\n",
    "# Getting SEX\n",
    "PDBP_QC['sex'] = np.where(PDBP_QC['sex'] == \"Female\", 2, 1)\n",
    "\n",
    "\n",
    "# Get the AAD info\n",
    "PDBP_QC = pd.merge(PDBP_QC,\n",
    "                   AAD_QC.drop(\"visit_name\", axis = 1),\n",
    "                   on = \"participant_id\",\n",
    "                   how = \"left\")\n",
    "# Check there are 3 ppl missing AAD\n",
    "#print(\"Number NAs\", PDBP_QC['age_at_diagnosis'].isna().sum())\n",
    "# Impute the AAD for those three ppl from the AAB\n",
    "print(\"Check the total of ppl with AAB NAs: \", PDBP_QC.age_at_baseline.isna().sum())\n",
    "PDBP_QC['AAD_MISSING'] = PDBP_QC['age_at_diagnosis'].isna().astype(int)\n",
    "PDBP_QC[\"AAD_IMPUTED\"] = PDBP_QC.age_at_diagnosis.mask(PDBP_QC.age_at_diagnosis.isna(),\n",
    "                                                      PDBP_QC.age_at_baseline - \n",
    "                                                       (PDBP_QC.age_at_baseline - PDBP_QC.age_at_diagnosis.mean()))\n",
    "\n",
    "# Get a tag to identify ppl with long disease duration\n",
    "\n",
    "# Recalculate DISEASE DURATION after including 3 LID ppl with AAD imputed\n",
    "# Calculate disease duration from diagnosis\n",
    "PDBP_QC[\"DIS_DUR\"] = PDBP_QC.age_at_baseline - PDBP_QC.AAD_IMPUTED\n",
    "DISDURLONG = list(PDBP_QC[PDBP_QC.DIS_DUR.ge(9)].participant_id)\n",
    "print(\"PPL WITH LONG DISEASE DURATION: \", len(DISDURLONG))\n",
    "PDBP_QC.head()\n",
    "# Add tag for the 70 ppl with long disease duration. I will exclude them on sensitivity analyses\n",
    "PDBP_QC['LONG_DISDUR'] = PDBP_QC['participant_id'].isin(DISDURLONG).astype(int)\n",
    "\n",
    "\n",
    "PDBP_QC[\"DIS_DUR\"] =  PDBP_QC.age_at_baseline - PDBP_QC.AAD_IMPUTED\n",
    "# Check entried with a negative disease duration\n",
    "PDBP_QC[PDBP_QC.DIS_DUR < 0]\n",
    "# Exclude patient with DIS_DUR < -10 Years. Possible error in the recoding for that entry\n",
    "PDBP_QC = PDBP_QC[~PDBP_QC.ID.str.contains('PD-PDAW438DAN')]\n",
    "# In addition, set the DISEASE DURATION TO 0 for PPL with a disease duration of -1 or -2\n",
    "PDBP_QC[\"DIS_DUR\"] = [0 if dur < 0 else dur for dur in PDBP_QC.DIS_DUR]\n",
    "PDBP_QC.info()\n",
    "print(\"\\nChecking disease duration is okey \\n\")\n",
    "print(PDBP_QC[PDBP_QC.DIS_DUR < 0])\n",
    "\n",
    "\n",
    "\n",
    "\n",
    "\n",
    "\n",
    "# Add the MDS-UPDRSIIItotal score at BL\n",
    "#demographics = gcs_read_csv(os.path.join(GS_CLINICAL_RELEASE_PATH, 'MDS_UPDRS_Part_III.csv'))\n",
    "MDSUPDRSIII = gcs_read_csv(os.path.join(GS_CLINICAL_RELEASE_PATH, 'MDS_UPDRS_Part_III.csv'))\n",
    "MDSUPDRSIII_BL = MDSUPDRSIII[MDSUPDRSIII.visit_name == \"M0\"]\n",
    "PDBP_QC = pd.merge(PDBP_QC,\n",
    "                   MDSUPDRSIII_BL[[\"participant_id\", \"mds_updrs_part_iii_summary_score\"]],\n",
    "                   on = \"participant_id\",\n",
    "                   how = \"left\")\n",
    "print(\"Check the number of MDSPUPDRSIII_BL NAs: \", PDBP_QC['mds_updrs_part_iii_summary_score'].isna().sum())"
   ]
  },
  {
   "cell_type": "markdown",
   "metadata": {},
   "source": [
    "#### Get OUTCOME"
   ]
  },
  {
   "cell_type": "code",
   "execution_count": 46,
   "metadata": {},
   "outputs": [
    {
     "name": "stdout",
     "output_type": "stream",
     "text": [
      "\n",
      "Number of patients with LID 44\n",
      "\n",
      "Number of patients without LID 287\n",
      "<class 'pandas.core.frame.DataFrame'>\n",
      "Int64Index: 331 entries, 6 to 3176\n",
      "Data columns (total 4 columns):\n",
      " #   Column              Non-Null Count  Dtype  \n",
      "---  ------              --------------  -----  \n",
      " 0   ID                  331 non-null    object \n",
      " 1   visit_month         331 non-null    float64\n",
      " 2   TIMEMIDPOINT_YEARS  331 non-null    float64\n",
      " 3   EVENT_DYSK          331 non-null    int64  \n",
      "dtypes: float64(2), int64(1), object(1)\n",
      "memory usage: 12.9+ KB\n"
     ]
    }
   ],
   "source": [
    "# GETTING THE TIME EVENT OUTCOME\n",
    "MDSUPDRSIV_OUTCOMES = MDSUPDRSIV_DEMO_PDBPD_LG_FILT[MDSUPDRSIV_DEMO_PDBPD_LG_FILT[\"ID\"].isin(PD_IDs_QC)]\n",
    "\n",
    "\n",
    "# Get all entries with MDS-UPDRS-IV-1 >= 2\n",
    "# Group by ID\n",
    "# Get the first entry (ie ming visit_month value)\n",
    "MDSUPDRSIV_LID = MDSUPDRSIV_OUTCOMES[MDSUPDRSIV_OUTCOMES.MDS_UPDRS_IV_1.ge(2)]\n",
    "idx = MDSUPDRSIV_LID.groupby(['ID'])['visit_month'].transform(min) == MDSUPDRSIV_LID['visit_month']\n",
    "MDSUPDRSIV_LID = MDSUPDRSIV_LID[idx]\n",
    "# To define the event midpoint, we just substract the visit months ( assessments were performed eveyr 3 months)\n",
    "MDSUPDRSIV_LID[\"TIMEMIDPOINT_YEARS\"] = (MDSUPDRSIV_LID.visit_month - 3 ) / 12\n",
    "MDSUPDRSIV_LID[\"EVENT_DYSK\"] = 1\n",
    "\n",
    "# Get another subset filtering out previous samples\n",
    "# Group by ID\n",
    "# Get the last entry (ie ming visit_month value)\n",
    "MDSUPDRSIV_NOLID = MDSUPDRSIV_OUTCOMES[~MDSUPDRSIV_OUTCOMES.ID.isin(MDSUPDRSIV_LID.ID)]\n",
    "\n",
    "\n",
    "idx = MDSUPDRSIV_NOLID.groupby(['ID'])['visit_month'].transform(max) == MDSUPDRSIV_NOLID['visit_month']\n",
    "MDSUPDRSIV_NOLID = MDSUPDRSIV_NOLID[idx]\n",
    "# To define the event midpoint, we just substract the visit months ( assessments were performed eveyr 3 months)\n",
    "MDSUPDRSIV_NOLID[\"TIMEMIDPOINT_YEARS\"] = [month / 12 if month == 60 else (month + 3) / 12  \n",
    "                                               for month in MDSUPDRSIV_NOLID.visit_month]\n",
    "\n",
    "MDSUPDRSIV_NOLID[\"EVENT_DYSK\"] = 0\n",
    "print(\"\\nNumber of patients with LID\",len(MDSUPDRSIV_LID.ID.unique()))\n",
    "print(\"\\nNumber of patients without LID\",len(MDSUPDRSIV_NOLID.ID.unique()))\n",
    "\n",
    "MDSUPDRSIV_TIMEPOINT = pd.concat([MDSUPDRSIV_LID[[\"ID\",\"visit_month\", \"TIMEMIDPOINT_YEARS\", \"EVENT_DYSK\"]], \n",
    "                                  MDSUPDRSIV_NOLID[[\"ID\", \"visit_month\", \"TIMEMIDPOINT_YEARS\", \"EVENT_DYSK\"]]])\n",
    "MDSUPDRSIV_TIMEPOINT.info()\n",
    "\n",
    "#with pd.option_context('display.max_rows', None, 'display.max_columns', None):  # more options can be specified also\n",
    "#    tmp = MDSUPDRSIV_LID.sort_values([\"ID\", \"visit_month\"])\n",
    "#    display(tmp)\n",
    "#    display(MDSUPDRSIV_LID)"
   ]
  },
  {
   "cell_type": "markdown",
   "metadata": {},
   "source": [
    "#### Merge the outcome with covariates"
   ]
  },
  {
   "cell_type": "code",
   "execution_count": 47,
   "metadata": {
    "scrolled": true
   },
   "outputs": [
    {
     "name": "stdout",
     "output_type": "stream",
     "text": [
      "<class 'pandas.core.frame.DataFrame'>\n",
      "Int64Index: 330 entries, 0 to 329\n",
      "Data columns (total 12 columns):\n",
      " #   Column              Non-Null Count  Dtype  \n",
      "---  ------              --------------  -----  \n",
      " 0   ID                  330 non-null    object \n",
      " 1   age_at_baseline     330 non-null    int64  \n",
      " 2   SEX                 330 non-null    int64  \n",
      " 3   age_at_diagnosis    298 non-null    float64\n",
      " 4   AAD_MISSING         330 non-null    int64  \n",
      " 5   AAD_IMPUTED         330 non-null    float64\n",
      " 6   DIS_DUR             330 non-null    float64\n",
      " 7   LONG_DISDUR         330 non-null    int64  \n",
      " 8   MDSUPDRSIII_BL      330 non-null    float64\n",
      " 9   visit_month         330 non-null    float64\n",
      " 10  TIMEMIDPOINT_YEARS  330 non-null    float64\n",
      " 11  EVENT_DYSK          330 non-null    int64  \n",
      "dtypes: float64(6), int64(5), object(1)\n",
      "memory usage: 33.5+ KB\n"
     ]
    }
   ],
   "source": [
    "PDBP_QC = pd.merge(PDBP_QC,\n",
    "                   MDSUPDRSIV_TIMEPOINT,\n",
    "                   on = \"ID\",\n",
    "                   how = \"left\")\n",
    "\n",
    "\n",
    "PDBP_QC = PDBP_QC.rename(columns={\"mds_updrs_part_iii_summary_score\" : \"MDSUPDRSIII_BL\", \"sex\" : \"SEX\"}, errors=\"raise\")\n",
    "\n",
    "PDBP_QC.drop([\"participant_id\"], axis=1, inplace=True)\n",
    "PDBP_QC.info()\n",
    "#PDBP_QC.head()"
   ]
  },
  {
   "cell_type": "markdown",
   "metadata": {},
   "source": [
    "#### Get the Ldopa data at the time the event is met\n",
    "We are going to load the Levodopa only LEDD data Tarek generated some time ago and we will append it to the generated DF"
   ]
  },
  {
   "cell_type": "code",
   "execution_count": 37,
   "metadata": {},
   "outputs": [
    {
     "name": "stdout",
     "output_type": "stream",
     "text": [
      "Executing: gsutil ls gs://fc-509fb8f7-9df1-43ec-805d-e976c08ce034\n",
      "gs://fc-509fb8f7-9df1-43ec-805d-e976c08ce034/clinical_data/\n",
      "gs://fc-509fb8f7-9df1-43ec-805d-e976c08ce034/covar_files/\n",
      "gs://fc-509fb8f7-9df1-43ec-805d-e976c08ce034/notebooks/\n"
     ]
    }
   ],
   "source": [
    "shell_do(f'gsutil ls {WORKSPACE_BUCKET}')\n",
    "ledd_levo = gcs_read_csv(os.path.join(WORKSPACE_BUCKET, 'clinical_data/PDBP_derived_ledd.csv'))\n",
    "ledd_levo[\"ID\"] = (\"PD-\" + ledd_levo.SGUID.map(lambda x: re.sub(r\"^\\d+\\.\", \"\", x))).astype(str)\n",
    "#ledd_levo"
   ]
  },
  {
   "cell_type": "code",
   "execution_count": 38,
   "metadata": {},
   "outputs": [
    {
     "data": {
      "text/html": [
       "<div>\n",
       "<style scoped>\n",
       "    .dataframe tbody tr th:only-of-type {\n",
       "        vertical-align: middle;\n",
       "    }\n",
       "\n",
       "    .dataframe tbody tr th {\n",
       "        vertical-align: top;\n",
       "    }\n",
       "\n",
       "    .dataframe thead th {\n",
       "        text-align: right;\n",
       "    }\n",
       "</style>\n",
       "<table border=\"1\" class=\"dataframe\">\n",
       "  <thead>\n",
       "    <tr style=\"text-align: right;\">\n",
       "      <th></th>\n",
       "      <th>LEDD</th>\n",
       "      <th>DailyLevo</th>\n",
       "    </tr>\n",
       "  </thead>\n",
       "  <tbody>\n",
       "    <tr>\n",
       "      <th>count</th>\n",
       "      <td>316.000000</td>\n",
       "      <td>235.000000</td>\n",
       "    </tr>\n",
       "    <tr>\n",
       "      <th>mean</th>\n",
       "      <td>527.378165</td>\n",
       "      <td>414.057447</td>\n",
       "    </tr>\n",
       "    <tr>\n",
       "      <th>std</th>\n",
       "      <td>307.178024</td>\n",
       "      <td>207.456781</td>\n",
       "    </tr>\n",
       "    <tr>\n",
       "      <th>min</th>\n",
       "      <td>1.500000</td>\n",
       "      <td>1.500000</td>\n",
       "    </tr>\n",
       "    <tr>\n",
       "      <th>25%</th>\n",
       "      <td>300.000000</td>\n",
       "      <td>300.000000</td>\n",
       "    </tr>\n",
       "    <tr>\n",
       "      <th>50%</th>\n",
       "      <td>460.000000</td>\n",
       "      <td>300.000000</td>\n",
       "    </tr>\n",
       "    <tr>\n",
       "      <th>75%</th>\n",
       "      <td>670.000000</td>\n",
       "      <td>500.000000</td>\n",
       "    </tr>\n",
       "    <tr>\n",
       "      <th>max</th>\n",
       "      <td>1750.000000</td>\n",
       "      <td>1600.000000</td>\n",
       "    </tr>\n",
       "  </tbody>\n",
       "</table>\n",
       "</div>"
      ],
      "text/plain": [
       "              LEDD    DailyLevo\n",
       "count   316.000000   235.000000\n",
       "mean    527.378165   414.057447\n",
       "std     307.178024   207.456781\n",
       "min       1.500000     1.500000\n",
       "25%     300.000000   300.000000\n",
       "50%     460.000000   300.000000\n",
       "75%     670.000000   500.000000\n",
       "max    1750.000000  1600.000000"
      ]
     },
     "execution_count": 38,
     "metadata": {},
     "output_type": "execute_result"
    }
   ],
   "source": [
    "ledd_levo_bl = ledd_levo[ledd_levo.VisitTypPDBP == \"Baseline\"]\n",
    "ledd_levo_bl_qc = ledd_levo_bl[ledd_levo_bl[\"ID\"].isin(PDBP_QC.ID.unique())]\n",
    "ledd_levo_bl_qc\n",
    "ledd_levo_bl_qc.describe(include=np.number) "
   ]
  },
  {
   "cell_type": "code",
   "execution_count": 39,
   "metadata": {},
   "outputs": [
    {
     "name": "stdout",
     "output_type": "stream",
     "text": [
      "Executing: gsutil ls gs://fc-509fb8f7-9df1-43ec-805d-e976c08ce034\n",
      "gs://fc-509fb8f7-9df1-43ec-805d-e976c08ce034/clinical_data/\n",
      "gs://fc-509fb8f7-9df1-43ec-805d-e976c08ce034/covar_files/\n",
      "gs://fc-509fb8f7-9df1-43ec-805d-e976c08ce034/notebooks/\n"
     ]
    }
   ],
   "source": [
    "shell_do(f'gsutil ls {WORKSPACE_BUCKET}')\n",
    "ledd_levo = gcs_read_csv(os.path.join(WORKSPACE_BUCKET, 'clinical_data/PDBP_derived_ledd.csv'))\n",
    "ledd_levo[\"ID\"] = (\"PD-\" + ledd_levo.SGUID.map(lambda x: re.sub(r\"^\\d+\\.\", \"\", x))).astype(str)\n",
    "\n",
    "#df['col'] = 'str' + df['col'].astype(str)\n",
    "\n",
    "ledd_levo[\"visit_month\"] = ledd_levo.VisitTypPDBP.map(lambda x: re.sub(r\"months$\", \"\", x))\n",
    "ledd_levo[\"visit_month\"] = pd.to_numeric(np.where(ledd_levo.visit_month == \"Baseline\", \"0\", ledd_levo.visit_month), errors='raise')"
   ]
  },
  {
   "cell_type": "code",
   "execution_count": 48,
   "metadata": {
    "scrolled": true
   },
   "outputs": [
    {
     "name": "stdout",
     "output_type": "stream",
     "text": [
      "<class 'pandas.core.frame.DataFrame'>\n",
      "RangeIndex: 5893 entries, 0 to 5892\n",
      "Data columns (total 6 columns):\n",
      " #   Column        Non-Null Count  Dtype  \n",
      "---  ------        --------------  -----  \n",
      " 0   SGUID         5893 non-null   object \n",
      " 1   VisitTypPDBP  5893 non-null   object \n",
      " 2   LEDD          5893 non-null   float64\n",
      " 3   DailyLevo     3378 non-null   float64\n",
      " 4   ID            5893 non-null   object \n",
      " 5   visit_month   5893 non-null   int64  \n",
      "dtypes: float64(2), int64(1), object(3)\n",
      "memory usage: 276.4+ KB\n",
      "<class 'pandas.core.frame.DataFrame'>\n",
      "Int64Index: 330 entries, 0 to 329\n",
      "Data columns (total 14 columns):\n",
      " #   Column              Non-Null Count  Dtype  \n",
      "---  ------              --------------  -----  \n",
      " 0   ID                  330 non-null    object \n",
      " 1   age_at_baseline     330 non-null    int64  \n",
      " 2   SEX                 330 non-null    int64  \n",
      " 3   age_at_diagnosis    298 non-null    float64\n",
      " 4   AAD_MISSING         330 non-null    int64  \n",
      " 5   AAD_IMPUTED         330 non-null    float64\n",
      " 6   DIS_DUR             330 non-null    float64\n",
      " 7   LONG_DISDUR         330 non-null    int64  \n",
      " 8   MDSUPDRSIII_BL      330 non-null    float64\n",
      " 9   visit_month         330 non-null    float64\n",
      " 10  TIMEMIDPOINT_YEARS  330 non-null    float64\n",
      " 11  EVENT_DYSK          330 non-null    int64  \n",
      " 12  LEDD                215 non-null    float64\n",
      " 13  DailyLevo           181 non-null    float64\n",
      "dtypes: float64(8), int64(5), object(1)\n",
      "memory usage: 38.7+ KB\n"
     ]
    }
   ],
   "source": [
    "ledd_levo.info()\n",
    "PDBP_QC = pd.merge(PDBP_QC,\n",
    "                   ledd_levo[[\"ID\", \"visit_month\", \"LEDD\", \"DailyLevo\"]], \n",
    "                   on = [\"ID\", \"visit_month\"],\n",
    "                   #on = \"ID\",\n",
    "                   how = \"left\")\n",
    "\n",
    "PDBP_QC.info()"
   ]
  },
  {
   "cell_type": "markdown",
   "metadata": {},
   "source": [
    "**NOTE TO MYSELF**\n",
    "Levodop data is unsuitable.  \n",
    "We are missing data for half of the patients in the QCed data"
   ]
  },
  {
   "cell_type": "markdown",
   "metadata": {},
   "source": [
    "### PDBP summary statistics\n",
    "Get metrics for the whole cohort and stratified by event_dyskinesias"
   ]
  },
  {
   "cell_type": "code",
   "execution_count": 49,
   "metadata": {},
   "outputs": [
    {
     "data": {
      "text/plain": [
       "array([0, 1])"
      ]
     },
     "execution_count": 49,
     "metadata": {},
     "output_type": "execute_result"
    }
   ],
   "source": [
    "PDBP_QC.LONG_DISDUR.unique()"
   ]
  },
  {
   "cell_type": "code",
   "execution_count": 42,
   "metadata": {
    "scrolled": false
   },
   "outputs": [
    {
     "name": "stdout",
     "output_type": "stream",
     "text": [
      "<class 'pandas.core.frame.DataFrame'>\n",
      "Int64Index: 330 entries, 0 to 329\n",
      "Data columns (total 14 columns):\n",
      " #   Column              Non-Null Count  Dtype  \n",
      "---  ------              --------------  -----  \n",
      " 0   ID                  330 non-null    object \n",
      " 1   age_at_baseline     330 non-null    int64  \n",
      " 2   SEX                 330 non-null    int64  \n",
      " 3   age_at_diagnosis    298 non-null    float64\n",
      " 4   AAD_MISSING         330 non-null    int64  \n",
      " 5   AAD_IMPUTED         330 non-null    float64\n",
      " 6   DIS_DUR             330 non-null    float64\n",
      " 7   LONG_DISDUR         330 non-null    int64  \n",
      " 8   MDSUPDRSIII_BL      330 non-null    float64\n",
      " 9   visit_month         330 non-null    float64\n",
      " 10  TIMEMIDPOINT_YEARS  330 non-null    float64\n",
      " 11  EVENT_DYSK          330 non-null    int64  \n",
      " 12  LEDD                215 non-null    float64\n",
      " 13  DailyLevo           181 non-null    float64\n",
      "dtypes: float64(8), int64(5), object(1)\n",
      "memory usage: 38.7+ KB\n",
      "0    286\n",
      "1     44\n",
      "Name: EVENT_DYSK, dtype: int64\n",
      "0    326\n",
      "1      4\n",
      "Name: LONG_DISDUR, dtype: int64\n"
     ]
    }
   ],
   "source": [
    "PDBP_QC.info()\n",
    "\n",
    "# Funny casualty is that the numbers below match. I did check this is not coming from an error during processing\n",
    "print(PDBP_QC[\"EVENT_DYSK\"].value_counts())\n",
    "print(PDBP_QC[\"LONG_DISDUR\"].value_counts())\n",
    "# Check the outcome distribution"
   ]
  },
  {
   "cell_type": "code",
   "execution_count": 50,
   "metadata": {
    "scrolled": false
   },
   "outputs": [
    {
     "data": {
      "text/html": [
       "<div>\n",
       "<style scoped>\n",
       "    .dataframe tbody tr th:only-of-type {\n",
       "        vertical-align: middle;\n",
       "    }\n",
       "\n",
       "    .dataframe tbody tr th {\n",
       "        vertical-align: top;\n",
       "    }\n",
       "\n",
       "    .dataframe thead th {\n",
       "        text-align: right;\n",
       "    }\n",
       "</style>\n",
       "<table border=\"1\" class=\"dataframe\">\n",
       "  <thead>\n",
       "    <tr style=\"text-align: right;\">\n",
       "      <th></th>\n",
       "      <th>age_at_baseline</th>\n",
       "      <th>SEX</th>\n",
       "      <th>age_at_diagnosis</th>\n",
       "      <th>AAD_MISSING</th>\n",
       "      <th>AAD_IMPUTED</th>\n",
       "      <th>DIS_DUR</th>\n",
       "      <th>LONG_DISDUR</th>\n",
       "      <th>MDSUPDRSIII_BL</th>\n",
       "      <th>visit_month</th>\n",
       "      <th>TIMEMIDPOINT_YEARS</th>\n",
       "      <th>EVENT_DYSK</th>\n",
       "      <th>LEDD</th>\n",
       "      <th>DailyLevo</th>\n",
       "    </tr>\n",
       "  </thead>\n",
       "  <tbody>\n",
       "    <tr>\n",
       "      <th>count</th>\n",
       "      <td>330.000000</td>\n",
       "      <td>330.000000</td>\n",
       "      <td>298.000000</td>\n",
       "      <td>330.000000</td>\n",
       "      <td>330.000000</td>\n",
       "      <td>330.000000</td>\n",
       "      <td>330.000000</td>\n",
       "      <td>330.000000</td>\n",
       "      <td>330.000000</td>\n",
       "      <td>330.000000</td>\n",
       "      <td>330.000000</td>\n",
       "      <td>215.000000</td>\n",
       "      <td>181.000000</td>\n",
       "    </tr>\n",
       "    <tr>\n",
       "      <th>mean</th>\n",
       "      <td>63.978788</td>\n",
       "      <td>1.384848</td>\n",
       "      <td>61.536913</td>\n",
       "      <td>0.096970</td>\n",
       "      <td>61.535117</td>\n",
       "      <td>2.924921</td>\n",
       "      <td>0.012121</td>\n",
       "      <td>21.187879</td>\n",
       "      <td>33.290909</td>\n",
       "      <td>2.948485</td>\n",
       "      <td>0.133333</td>\n",
       "      <td>683.476744</td>\n",
       "      <td>552.809392</td>\n",
       "    </tr>\n",
       "    <tr>\n",
       "      <th>std</th>\n",
       "      <td>9.328658</td>\n",
       "      <td>0.487298</td>\n",
       "      <td>9.292858</td>\n",
       "      <td>0.296366</td>\n",
       "      <td>8.829369</td>\n",
       "      <td>2.672738</td>\n",
       "      <td>0.109593</td>\n",
       "      <td>11.293589</td>\n",
       "      <td>12.358140</td>\n",
       "      <td>1.071174</td>\n",
       "      <td>0.340451</td>\n",
       "      <td>418.087984</td>\n",
       "      <td>363.586790</td>\n",
       "    </tr>\n",
       "    <tr>\n",
       "      <th>min</th>\n",
       "      <td>34.000000</td>\n",
       "      <td>1.000000</td>\n",
       "      <td>33.000000</td>\n",
       "      <td>0.000000</td>\n",
       "      <td>33.000000</td>\n",
       "      <td>0.000000</td>\n",
       "      <td>0.000000</td>\n",
       "      <td>2.000000</td>\n",
       "      <td>6.000000</td>\n",
       "      <td>0.250000</td>\n",
       "      <td>0.000000</td>\n",
       "      <td>60.000000</td>\n",
       "      <td>6.000000</td>\n",
       "    </tr>\n",
       "    <tr>\n",
       "      <th>25%</th>\n",
       "      <td>58.000000</td>\n",
       "      <td>1.000000</td>\n",
       "      <td>55.250000</td>\n",
       "      <td>0.000000</td>\n",
       "      <td>56.000000</td>\n",
       "      <td>1.000000</td>\n",
       "      <td>0.000000</td>\n",
       "      <td>13.000000</td>\n",
       "      <td>24.000000</td>\n",
       "      <td>2.250000</td>\n",
       "      <td>0.000000</td>\n",
       "      <td>400.000000</td>\n",
       "      <td>300.000000</td>\n",
       "    </tr>\n",
       "    <tr>\n",
       "      <th>50%</th>\n",
       "      <td>65.000000</td>\n",
       "      <td>1.000000</td>\n",
       "      <td>62.000000</td>\n",
       "      <td>0.000000</td>\n",
       "      <td>61.518395</td>\n",
       "      <td>2.000000</td>\n",
       "      <td>0.000000</td>\n",
       "      <td>18.000000</td>\n",
       "      <td>36.000000</td>\n",
       "      <td>3.250000</td>\n",
       "      <td>0.000000</td>\n",
       "      <td>600.000000</td>\n",
       "      <td>450.000000</td>\n",
       "    </tr>\n",
       "    <tr>\n",
       "      <th>75%</th>\n",
       "      <td>71.000000</td>\n",
       "      <td>2.000000</td>\n",
       "      <td>68.000000</td>\n",
       "      <td>0.000000</td>\n",
       "      <td>67.000000</td>\n",
       "      <td>5.000000</td>\n",
       "      <td>0.000000</td>\n",
       "      <td>28.750000</td>\n",
       "      <td>42.000000</td>\n",
       "      <td>3.750000</td>\n",
       "      <td>0.000000</td>\n",
       "      <td>893.750000</td>\n",
       "      <td>800.000000</td>\n",
       "    </tr>\n",
       "    <tr>\n",
       "      <th>max</th>\n",
       "      <td>87.000000</td>\n",
       "      <td>2.000000</td>\n",
       "      <td>85.000000</td>\n",
       "      <td>1.000000</td>\n",
       "      <td>85.000000</td>\n",
       "      <td>16.481605</td>\n",
       "      <td>1.000000</td>\n",
       "      <td>65.000000</td>\n",
       "      <td>60.000000</td>\n",
       "      <td>5.000000</td>\n",
       "      <td>1.000000</td>\n",
       "      <td>2500.000000</td>\n",
       "      <td>2050.000000</td>\n",
       "    </tr>\n",
       "  </tbody>\n",
       "</table>\n",
       "</div>"
      ],
      "text/plain": [
       "       age_at_baseline         SEX  age_at_diagnosis  AAD_MISSING  \\\n",
       "count       330.000000  330.000000        298.000000   330.000000   \n",
       "mean         63.978788    1.384848         61.536913     0.096970   \n",
       "std           9.328658    0.487298          9.292858     0.296366   \n",
       "min          34.000000    1.000000         33.000000     0.000000   \n",
       "25%          58.000000    1.000000         55.250000     0.000000   \n",
       "50%          65.000000    1.000000         62.000000     0.000000   \n",
       "75%          71.000000    2.000000         68.000000     0.000000   \n",
       "max          87.000000    2.000000         85.000000     1.000000   \n",
       "\n",
       "       AAD_IMPUTED     DIS_DUR  LONG_DISDUR  MDSUPDRSIII_BL  visit_month  \\\n",
       "count   330.000000  330.000000   330.000000      330.000000   330.000000   \n",
       "mean     61.535117    2.924921     0.012121       21.187879    33.290909   \n",
       "std       8.829369    2.672738     0.109593       11.293589    12.358140   \n",
       "min      33.000000    0.000000     0.000000        2.000000     6.000000   \n",
       "25%      56.000000    1.000000     0.000000       13.000000    24.000000   \n",
       "50%      61.518395    2.000000     0.000000       18.000000    36.000000   \n",
       "75%      67.000000    5.000000     0.000000       28.750000    42.000000   \n",
       "max      85.000000   16.481605     1.000000       65.000000    60.000000   \n",
       "\n",
       "       TIMEMIDPOINT_YEARS  EVENT_DYSK         LEDD    DailyLevo  \n",
       "count          330.000000  330.000000   215.000000   181.000000  \n",
       "mean             2.948485    0.133333   683.476744   552.809392  \n",
       "std              1.071174    0.340451   418.087984   363.586790  \n",
       "min              0.250000    0.000000    60.000000     6.000000  \n",
       "25%              2.250000    0.000000   400.000000   300.000000  \n",
       "50%              3.250000    0.000000   600.000000   450.000000  \n",
       "75%              3.750000    0.000000   893.750000   800.000000  \n",
       "max              5.000000    1.000000  2500.000000  2050.000000  "
      ]
     },
     "execution_count": 50,
     "metadata": {},
     "output_type": "execute_result"
    }
   ],
   "source": [
    "PDBP_QC.describe(include=np.number)  "
   ]
  },
  {
   "cell_type": "code",
   "execution_count": 44,
   "metadata": {
    "scrolled": true
   },
   "outputs": [
    {
     "data": {
      "text/plain": [
       "ID                      0\n",
       "age_at_baseline         0\n",
       "SEX                     0\n",
       "age_at_diagnosis       32\n",
       "AAD_MISSING             0\n",
       "AAD_IMPUTED             0\n",
       "DIS_DUR                 0\n",
       "LONG_DISDUR             0\n",
       "MDSUPDRSIII_BL          0\n",
       "visit_month             0\n",
       "TIMEMIDPOINT_YEARS      0\n",
       "EVENT_DYSK              0\n",
       "LEDD                  115\n",
       "DailyLevo             149\n",
       "dtype: int64"
      ]
     },
     "execution_count": 44,
     "metadata": {},
     "output_type": "execute_result"
    }
   ],
   "source": [
    "# Checking number of missingness\n",
    "PDBP_QC.isna().sum()"
   ]
  },
  {
   "cell_type": "markdown",
   "metadata": {},
   "source": [
    "#### Observe the sumary statistitc stratified by the disease duration groups"
   ]
  },
  {
   "cell_type": "code",
   "execution_count": 51,
   "metadata": {
    "code_folding": []
   },
   "outputs": [
    {
     "name": "stdout",
     "output_type": "stream",
     "text": [
      "            age_at_baseline                                                 \\\n",
      "                      count       mean       std   min    25%   50%    75%   \n",
      "LONG_DISDUR                                                                  \n",
      "0                     326.0  63.855828  9.314046  34.0  58.00  65.0  70.75   \n",
      "1                       4.0  74.000000  3.162278  71.0  71.75  73.5  75.75   \n",
      "\n",
      "                     SEX                                               \\\n",
      "              max  count      mean       std  min  25%  50%  75%  max   \n",
      "LONG_DISDUR                                                             \n",
      "0            87.0  326.0  1.389571  0.488403  1.0  1.0  1.0  2.0  2.0   \n",
      "1            78.0    4.0  1.000000  0.000000  1.0  1.0  1.0  1.0  1.0   \n",
      "\n",
      "            age_at_diagnosis                                                \\\n",
      "                       count       mean       std   min    25%   50%   75%   \n",
      "LONG_DISDUR                                                                  \n",
      "0                      298.0  61.536913  9.292858  33.0  55.25  62.0  68.0   \n",
      "1                        0.0        NaN       NaN   NaN    NaN   NaN   NaN   \n",
      "\n",
      "                  AAD_MISSING                                              \\\n",
      "              max       count     mean       std  min  25%  50%  75%  max   \n",
      "LONG_DISDUR                                                                 \n",
      "0            85.0       326.0  0.08589  0.280632  0.0  0.0  0.0  0.0  1.0   \n",
      "1             NaN         4.0  1.00000  0.000000  1.0  1.0  1.0  1.0  1.0   \n",
      "\n",
      "            AAD_IMPUTED                                                        \\\n",
      "                  count       mean       std        min        25%        50%   \n",
      "LONG_DISDUR                                                                     \n",
      "0                 326.0  61.535322  8.883538  33.000000  56.000000  61.518395   \n",
      "1                   4.0  61.518395  0.000000  61.518395  61.518395  61.518395   \n",
      "\n",
      "                                  DIS_DUR                                 \\\n",
      "                   75%        max   count       mean       std       min   \n",
      "LONG_DISDUR                                                                \n",
      "0            67.000000  85.000000   326.0   2.807662  2.449752  0.000000   \n",
      "1            61.518395  61.518395     4.0  12.481605  3.162278  9.481605   \n",
      "\n",
      "                                                        MDSUPDRSIII_BL  \\\n",
      "                   25%        50%        75%        max          count   \n",
      "LONG_DISDUR                                                              \n",
      "0             1.000000   2.000000   4.870401   8.481605          326.0   \n",
      "1            10.231605  11.981605  14.231605  16.481605            4.0   \n",
      "\n",
      "                                                                 visit_month  \\\n",
      "                  mean        std   min    25%   50%   75%   max       count   \n",
      "LONG_DISDUR                                                                    \n",
      "0            21.064417  11.226294   2.0  13.00  18.0  28.0  65.0       326.0   \n",
      "1            31.250000  14.056434  13.0  24.25  33.5  40.5  45.0         4.0   \n",
      "\n",
      "                                                                \\\n",
      "                  mean        std  min   25%   50%   75%   max   \n",
      "LONG_DISDUR                                                      \n",
      "0            33.552147  12.195663  6.0  24.0  36.0  42.0  60.0   \n",
      "1            12.000000   4.898979  6.0  10.5  12.0  13.5  18.0   \n",
      "\n",
      "            TIMEMIDPOINT_YEARS                                                \\\n",
      "                         count      mean       std   min    25%   50%    75%   \n",
      "LONG_DISDUR                                                                    \n",
      "0                        326.0  2.969325  1.060215  0.25  2.250  3.25  3.750   \n",
      "1                          4.0  1.250000  0.408248  0.75  1.125  1.25  1.375   \n",
      "\n",
      "                  EVENT_DYSK                                               \\\n",
      "              max      count      mean       std  min  25%  50%  75%  max   \n",
      "LONG_DISDUR                                                                 \n",
      "0            5.00      326.0  0.134969  0.342216  0.0  0.0  0.0  0.0  1.0   \n",
      "1            1.75        4.0  0.000000  0.000000  0.0  0.0  0.0  0.0  0.0   \n",
      "\n",
      "              LEDD                                                       \\\n",
      "             count        mean         std    min    25%    50%     75%   \n",
      "LONG_DISDUR                                                               \n",
      "0            211.0  688.329384  418.128132   60.0  400.0  600.0  893.75   \n",
      "1              4.0  427.500000  376.419535  100.0  137.5  355.0  645.00   \n",
      "\n",
      "                    DailyLevo                                               \\\n",
      "                max     count        mean         std    min    25%    50%   \n",
      "LONG_DISDUR                                                                  \n",
      "0            2500.0     178.0  555.384831  364.094193    6.0  300.0  450.0   \n",
      "1             900.0       3.0  400.000000  360.555128  100.0  200.0  300.0   \n",
      "\n",
      "                            \n",
      "               75%     max  \n",
      "LONG_DISDUR                 \n",
      "0            787.5  2050.0  \n",
      "1            550.0   800.0  \n"
     ]
    }
   ],
   "source": [
    "with pd.option_context('display.max_rows', None, 'display.max_columns', None):  # more options can be specified also\n",
    "    print(PDBP_QC.groupby('LONG_DISDUR').describe(include=np.number))   "
   ]
  },
  {
   "cell_type": "markdown",
   "metadata": {},
   "source": [
    "### COX PH models fitting\n",
    "Here, we want to have a look at th models and see whether the COXZP is met and whether the covariates are significantly associated with the time to event outcome"
   ]
  },
  {
   "cell_type": "code",
   "execution_count": 52,
   "metadata": {
    "scrolled": true
   },
   "outputs": [
    {
     "data": {
      "text/html": [
       "<div>\n",
       "<style scoped>\n",
       "    .dataframe tbody tr th:only-of-type {\n",
       "        vertical-align: middle;\n",
       "    }\n",
       "\n",
       "    .dataframe tbody tr th {\n",
       "        vertical-align: top;\n",
       "    }\n",
       "\n",
       "    .dataframe thead th {\n",
       "        text-align: right;\n",
       "    }\n",
       "</style>\n",
       "<table border=\"1\" class=\"dataframe\">\n",
       "  <tbody>\n",
       "    <tr>\n",
       "      <th>model</th>\n",
       "      <td>lifelines.CoxPHFitter</td>\n",
       "    </tr>\n",
       "    <tr>\n",
       "      <th>duration col</th>\n",
       "      <td>'TIMEMIDPOINT_YEARS'</td>\n",
       "    </tr>\n",
       "    <tr>\n",
       "      <th>event col</th>\n",
       "      <td>'EVENT_DYSK'</td>\n",
       "    </tr>\n",
       "    <tr>\n",
       "      <th>baseline estimation</th>\n",
       "      <td>breslow</td>\n",
       "    </tr>\n",
       "    <tr>\n",
       "      <th>number of observations</th>\n",
       "      <td>330</td>\n",
       "    </tr>\n",
       "    <tr>\n",
       "      <th>number of events observed</th>\n",
       "      <td>44</td>\n",
       "    </tr>\n",
       "    <tr>\n",
       "      <th>partial log-likelihood</th>\n",
       "      <td>-242.01</td>\n",
       "    </tr>\n",
       "    <tr>\n",
       "      <th>time fit was run</th>\n",
       "      <td>2023-04-03 10:13:26 UTC</td>\n",
       "    </tr>\n",
       "  </tbody>\n",
       "</table>\n",
       "</div><table border=\"1\" class=\"dataframe\">\n",
       "  <thead>\n",
       "    <tr style=\"text-align: right;\">\n",
       "      <th style=\"min-width: 12px;\"></th>\n",
       "      <th style=\"min-width: 12px;\">coef</th>\n",
       "      <th style=\"min-width: 12px;\">exp(coef)</th>\n",
       "      <th style=\"min-width: 12px;\">se(coef)</th>\n",
       "      <th style=\"min-width: 12px;\">coef lower 95%</th>\n",
       "      <th style=\"min-width: 12px;\">coef upper 95%</th>\n",
       "      <th style=\"min-width: 12px;\">exp(coef) lower 95%</th>\n",
       "      <th style=\"min-width: 12px;\">exp(coef) upper 95%</th>\n",
       "      <th style=\"min-width: 12px;\">cmp to</th>\n",
       "      <th style=\"min-width: 12px;\">z</th>\n",
       "      <th style=\"min-width: 12px;\">p</th>\n",
       "      <th style=\"min-width: 12px;\">-log2(p)</th>\n",
       "    </tr>\n",
       "  </thead>\n",
       "  <tbody>\n",
       "    <tr>\n",
       "      <th>AAD_IMPUTED</th>\n",
       "      <td>0.02</td>\n",
       "      <td>1.02</td>\n",
       "      <td>0.02</td>\n",
       "      <td>-0.02</td>\n",
       "      <td>0.05</td>\n",
       "      <td>0.98</td>\n",
       "      <td>1.05</td>\n",
       "      <td>0.00</td>\n",
       "      <td>1.04</td>\n",
       "      <td>0.30</td>\n",
       "      <td>1.74</td>\n",
       "    </tr>\n",
       "    <tr>\n",
       "      <th>SEX</th>\n",
       "      <td>0.18</td>\n",
       "      <td>1.19</td>\n",
       "      <td>0.30</td>\n",
       "      <td>-0.42</td>\n",
       "      <td>0.77</td>\n",
       "      <td>0.66</td>\n",
       "      <td>2.17</td>\n",
       "      <td>0.00</td>\n",
       "      <td>0.58</td>\n",
       "      <td>0.56</td>\n",
       "      <td>0.83</td>\n",
       "    </tr>\n",
       "  </tbody>\n",
       "</table><br><div>\n",
       "<style scoped>\n",
       "    .dataframe tbody tr th:only-of-type {\n",
       "        vertical-align: middle;\n",
       "    }\n",
       "\n",
       "    .dataframe tbody tr th {\n",
       "        vertical-align: top;\n",
       "    }\n",
       "\n",
       "    .dataframe thead th {\n",
       "        text-align: right;\n",
       "    }\n",
       "</style>\n",
       "<table border=\"1\" class=\"dataframe\">\n",
       "  <tbody>\n",
       "    <tr>\n",
       "      <th>Concordance</th>\n",
       "      <td>0.57</td>\n",
       "    </tr>\n",
       "    <tr>\n",
       "      <th>Partial AIC</th>\n",
       "      <td>488.02</td>\n",
       "    </tr>\n",
       "    <tr>\n",
       "      <th>log-likelihood ratio test</th>\n",
       "      <td>1.46 on 2 df</td>\n",
       "    </tr>\n",
       "    <tr>\n",
       "      <th>-log2(p) of ll-ratio test</th>\n",
       "      <td>1.05</td>\n",
       "    </tr>\n",
       "  </tbody>\n",
       "</table>\n",
       "</div>"
      ],
      "text/latex": [
       "\\begin{tabular}{lrrrrrrrrrrr}\n",
       "\\toprule\n",
       "{} &  coef &  exp(coef) &  se(coef) &  coef lower 95\\% &  coef upper 95\\% &  exp(coef) lower 95\\% &  exp(coef) upper 95\\% &  cmp to &    z &    p &  -log2(p) \\\\\n",
       "covariate   &       &            &           &                 &                 &                      &                      &         &      &      &           \\\\\n",
       "\\midrule\n",
       "AAD\\_IMPUTED &  0.02 &       1.02 &      0.02 &           -0.02 &            0.05 &                 0.98 &                 1.05 &    0.00 & 1.04 & 0.30 &      1.74 \\\\\n",
       "SEX         &  0.18 &       1.19 &      0.30 &           -0.42 &            0.77 &                 0.66 &                 2.17 &    0.00 & 0.58 & 0.56 &      0.83 \\\\\n",
       "\\bottomrule\n",
       "\\end{tabular}\n"
      ],
      "text/plain": [
       "<lifelines.CoxPHFitter: fitted with 330 total observations, 286 right-censored observations>\n",
       "             duration col = 'TIMEMIDPOINT_YEARS'\n",
       "                event col = 'EVENT_DYSK'\n",
       "      baseline estimation = breslow\n",
       "   number of observations = 330\n",
       "number of events observed = 44\n",
       "   partial log-likelihood = -242.01\n",
       "         time fit was run = 2023-04-03 10:13:26 UTC\n",
       "\n",
       "---\n",
       "              coef  exp(coef)   se(coef)   coef lower 95%   coef upper 95%  exp(coef) lower 95%  exp(coef) upper 95%\n",
       "covariate                                                                                                           \n",
       "AAD_IMPUTED   0.02       1.02       0.02            -0.02             0.05                 0.98                 1.05\n",
       "SEX           0.18       1.19       0.30            -0.42             0.77                 0.66                 2.17\n",
       "\n",
       "              cmp to    z    p   -log2(p)\n",
       "covariate                                \n",
       "AAD_IMPUTED     0.00 1.04 0.30       1.74\n",
       "SEX             0.00 0.58 0.56       0.83\n",
       "---\n",
       "Concordance = 0.57\n",
       "Partial AIC = 488.02\n",
       "log-likelihood ratio test = 1.46 on 2 df\n",
       "-log2(p) of ll-ratio test = 1.05"
      ]
     },
     "metadata": {},
     "output_type": "display_data"
    },
    {
     "name": "stdout",
     "output_type": "stream",
     "text": [
      "Proportional hazard assumption looks okay.\n"
     ]
    },
    {
     "data": {
      "text/plain": [
       "[]"
      ]
     },
     "execution_count": 52,
     "metadata": {},
     "output_type": "execute_result"
    }
   ],
   "source": [
    "PDBP_QC_SEXAAD = PDBP_QC[[\"TIMEMIDPOINT_YEARS\", \"EVENT_DYSK\", \"AAD_IMPUTED\", \"SEX\"]]\n",
    "\n",
    "\n",
    "cph = CoxPHFitter()\n",
    "cph.fit(PDBP_QC_SEXAAD, \"TIMEMIDPOINT_YEARS\", event_col = \"EVENT_DYSK\")\n",
    "cph.print_summary()\n",
    "cph.check_assumptions(PDBP_QC_SEXAAD, show_plots=True)"
   ]
  },
  {
   "cell_type": "code",
   "execution_count": 53,
   "metadata": {
    "scrolled": true
   },
   "outputs": [
    {
     "data": {
      "text/html": [
       "<div>\n",
       "<style scoped>\n",
       "    .dataframe tbody tr th:only-of-type {\n",
       "        vertical-align: middle;\n",
       "    }\n",
       "\n",
       "    .dataframe tbody tr th {\n",
       "        vertical-align: top;\n",
       "    }\n",
       "\n",
       "    .dataframe thead th {\n",
       "        text-align: right;\n",
       "    }\n",
       "</style>\n",
       "<table border=\"1\" class=\"dataframe\">\n",
       "  <tbody>\n",
       "    <tr>\n",
       "      <th>model</th>\n",
       "      <td>lifelines.CoxPHFitter</td>\n",
       "    </tr>\n",
       "    <tr>\n",
       "      <th>duration col</th>\n",
       "      <td>'TIMEMIDPOINT_YEARS'</td>\n",
       "    </tr>\n",
       "    <tr>\n",
       "      <th>event col</th>\n",
       "      <td>'EVENT_DYSK'</td>\n",
       "    </tr>\n",
       "    <tr>\n",
       "      <th>baseline estimation</th>\n",
       "      <td>breslow</td>\n",
       "    </tr>\n",
       "    <tr>\n",
       "      <th>number of observations</th>\n",
       "      <td>330</td>\n",
       "    </tr>\n",
       "    <tr>\n",
       "      <th>number of events observed</th>\n",
       "      <td>44</td>\n",
       "    </tr>\n",
       "    <tr>\n",
       "      <th>partial log-likelihood</th>\n",
       "      <td>-241.97</td>\n",
       "    </tr>\n",
       "    <tr>\n",
       "      <th>time fit was run</th>\n",
       "      <td>2023-04-03 10:13:28 UTC</td>\n",
       "    </tr>\n",
       "  </tbody>\n",
       "</table>\n",
       "</div><table border=\"1\" class=\"dataframe\">\n",
       "  <thead>\n",
       "    <tr style=\"text-align: right;\">\n",
       "      <th style=\"min-width: 12px;\"></th>\n",
       "      <th style=\"min-width: 12px;\">coef</th>\n",
       "      <th style=\"min-width: 12px;\">exp(coef)</th>\n",
       "      <th style=\"min-width: 12px;\">se(coef)</th>\n",
       "      <th style=\"min-width: 12px;\">coef lower 95%</th>\n",
       "      <th style=\"min-width: 12px;\">coef upper 95%</th>\n",
       "      <th style=\"min-width: 12px;\">exp(coef) lower 95%</th>\n",
       "      <th style=\"min-width: 12px;\">exp(coef) upper 95%</th>\n",
       "      <th style=\"min-width: 12px;\">cmp to</th>\n",
       "      <th style=\"min-width: 12px;\">z</th>\n",
       "      <th style=\"min-width: 12px;\">p</th>\n",
       "      <th style=\"min-width: 12px;\">-log2(p)</th>\n",
       "    </tr>\n",
       "  </thead>\n",
       "  <tbody>\n",
       "    <tr>\n",
       "      <th>AAD_IMPUTED</th>\n",
       "      <td>0.02</td>\n",
       "      <td>1.02</td>\n",
       "      <td>0.02</td>\n",
       "      <td>-0.02</td>\n",
       "      <td>0.05</td>\n",
       "      <td>0.98</td>\n",
       "      <td>1.06</td>\n",
       "      <td>0.00</td>\n",
       "      <td>1.07</td>\n",
       "      <td>0.28</td>\n",
       "      <td>1.82</td>\n",
       "    </tr>\n",
       "    <tr>\n",
       "      <th>SEX</th>\n",
       "      <td>0.18</td>\n",
       "      <td>1.20</td>\n",
       "      <td>0.31</td>\n",
       "      <td>-0.42</td>\n",
       "      <td>0.78</td>\n",
       "      <td>0.66</td>\n",
       "      <td>2.19</td>\n",
       "      <td>0.00</td>\n",
       "      <td>0.60</td>\n",
       "      <td>0.55</td>\n",
       "      <td>0.87</td>\n",
       "    </tr>\n",
       "    <tr>\n",
       "      <th>DIS_DUR</th>\n",
       "      <td>0.02</td>\n",
       "      <td>1.02</td>\n",
       "      <td>0.06</td>\n",
       "      <td>-0.10</td>\n",
       "      <td>0.13</td>\n",
       "      <td>0.91</td>\n",
       "      <td>1.14</td>\n",
       "      <td>0.00</td>\n",
       "      <td>0.30</td>\n",
       "      <td>0.76</td>\n",
       "      <td>0.39</td>\n",
       "    </tr>\n",
       "  </tbody>\n",
       "</table><br><div>\n",
       "<style scoped>\n",
       "    .dataframe tbody tr th:only-of-type {\n",
       "        vertical-align: middle;\n",
       "    }\n",
       "\n",
       "    .dataframe tbody tr th {\n",
       "        vertical-align: top;\n",
       "    }\n",
       "\n",
       "    .dataframe thead th {\n",
       "        text-align: right;\n",
       "    }\n",
       "</style>\n",
       "<table border=\"1\" class=\"dataframe\">\n",
       "  <tbody>\n",
       "    <tr>\n",
       "      <th>Concordance</th>\n",
       "      <td>0.57</td>\n",
       "    </tr>\n",
       "    <tr>\n",
       "      <th>Partial AIC</th>\n",
       "      <td>489.93</td>\n",
       "    </tr>\n",
       "    <tr>\n",
       "      <th>log-likelihood ratio test</th>\n",
       "      <td>1.55 on 3 df</td>\n",
       "    </tr>\n",
       "    <tr>\n",
       "      <th>-log2(p) of ll-ratio test</th>\n",
       "      <td>0.57</td>\n",
       "    </tr>\n",
       "  </tbody>\n",
       "</table>\n",
       "</div>"
      ],
      "text/latex": [
       "\\begin{tabular}{lrrrrrrrrrrr}\n",
       "\\toprule\n",
       "{} &  coef &  exp(coef) &  se(coef) &  coef lower 95\\% &  coef upper 95\\% &  exp(coef) lower 95\\% &  exp(coef) upper 95\\% &  cmp to &    z &    p &  -log2(p) \\\\\n",
       "covariate   &       &            &           &                 &                 &                      &                      &         &      &      &           \\\\\n",
       "\\midrule\n",
       "AAD\\_IMPUTED &  0.02 &       1.02 &      0.02 &           -0.02 &            0.05 &                 0.98 &                 1.06 &    0.00 & 1.07 & 0.28 &      1.82 \\\\\n",
       "SEX         &  0.18 &       1.20 &      0.31 &           -0.42 &            0.78 &                 0.66 &                 2.19 &    0.00 & 0.60 & 0.55 &      0.87 \\\\\n",
       "DIS\\_DUR     &  0.02 &       1.02 &      0.06 &           -0.10 &            0.13 &                 0.91 &                 1.14 &    0.00 & 0.30 & 0.76 &      0.39 \\\\\n",
       "\\bottomrule\n",
       "\\end{tabular}\n"
      ],
      "text/plain": [
       "<lifelines.CoxPHFitter: fitted with 330 total observations, 286 right-censored observations>\n",
       "             duration col = 'TIMEMIDPOINT_YEARS'\n",
       "                event col = 'EVENT_DYSK'\n",
       "      baseline estimation = breslow\n",
       "   number of observations = 330\n",
       "number of events observed = 44\n",
       "   partial log-likelihood = -241.97\n",
       "         time fit was run = 2023-04-03 10:13:28 UTC\n",
       "\n",
       "---\n",
       "              coef  exp(coef)   se(coef)   coef lower 95%   coef upper 95%  exp(coef) lower 95%  exp(coef) upper 95%\n",
       "covariate                                                                                                           \n",
       "AAD_IMPUTED   0.02       1.02       0.02            -0.02             0.05                 0.98                 1.06\n",
       "SEX           0.18       1.20       0.31            -0.42             0.78                 0.66                 2.19\n",
       "DIS_DUR       0.02       1.02       0.06            -0.10             0.13                 0.91                 1.14\n",
       "\n",
       "              cmp to    z    p   -log2(p)\n",
       "covariate                                \n",
       "AAD_IMPUTED     0.00 1.07 0.28       1.82\n",
       "SEX             0.00 0.60 0.55       0.87\n",
       "DIS_DUR         0.00 0.30 0.76       0.39\n",
       "---\n",
       "Concordance = 0.57\n",
       "Partial AIC = 489.93\n",
       "log-likelihood ratio test = 1.55 on 3 df\n",
       "-log2(p) of ll-ratio test = 0.57"
      ]
     },
     "metadata": {},
     "output_type": "display_data"
    },
    {
     "name": "stdout",
     "output_type": "stream",
     "text": [
      "Proportional hazard assumption looks okay.\n"
     ]
    },
    {
     "data": {
      "text/plain": [
       "[]"
      ]
     },
     "execution_count": 53,
     "metadata": {},
     "output_type": "execute_result"
    }
   ],
   "source": [
    "PDBP_QC_SEXAAD_DISDUR = PDBP_QC[[\"TIMEMIDPOINT_YEARS\", \"EVENT_DYSK\", \"AAD_IMPUTED\", \"SEX\", \"DIS_DUR\"]]\n",
    "\n",
    "\n",
    "cph = CoxPHFitter()\n",
    "cph.fit(PDBP_QC_SEXAAD_DISDUR, \"TIMEMIDPOINT_YEARS\", event_col = \"EVENT_DYSK\")\n",
    "cph.print_summary()\n",
    "\n",
    "cph.check_assumptions(PDBP_QC_SEXAAD_DISDUR, show_plots=True)"
   ]
  },
  {
   "cell_type": "code",
   "execution_count": 54,
   "metadata": {},
   "outputs": [
    {
     "data": {
      "text/html": [
       "<div>\n",
       "<style scoped>\n",
       "    .dataframe tbody tr th:only-of-type {\n",
       "        vertical-align: middle;\n",
       "    }\n",
       "\n",
       "    .dataframe tbody tr th {\n",
       "        vertical-align: top;\n",
       "    }\n",
       "\n",
       "    .dataframe thead th {\n",
       "        text-align: right;\n",
       "    }\n",
       "</style>\n",
       "<table border=\"1\" class=\"dataframe\">\n",
       "  <tbody>\n",
       "    <tr>\n",
       "      <th>model</th>\n",
       "      <td>lifelines.CoxPHFitter</td>\n",
       "    </tr>\n",
       "    <tr>\n",
       "      <th>duration col</th>\n",
       "      <td>'TIMEMIDPOINT_YEARS'</td>\n",
       "    </tr>\n",
       "    <tr>\n",
       "      <th>event col</th>\n",
       "      <td>'EVENT_DYSK'</td>\n",
       "    </tr>\n",
       "    <tr>\n",
       "      <th>baseline estimation</th>\n",
       "      <td>breslow</td>\n",
       "    </tr>\n",
       "    <tr>\n",
       "      <th>number of observations</th>\n",
       "      <td>330</td>\n",
       "    </tr>\n",
       "    <tr>\n",
       "      <th>number of events observed</th>\n",
       "      <td>44</td>\n",
       "    </tr>\n",
       "    <tr>\n",
       "      <th>partial log-likelihood</th>\n",
       "      <td>-240.04</td>\n",
       "    </tr>\n",
       "    <tr>\n",
       "      <th>time fit was run</th>\n",
       "      <td>2023-04-03 10:13:30 UTC</td>\n",
       "    </tr>\n",
       "  </tbody>\n",
       "</table>\n",
       "</div><table border=\"1\" class=\"dataframe\">\n",
       "  <thead>\n",
       "    <tr style=\"text-align: right;\">\n",
       "      <th style=\"min-width: 12px;\"></th>\n",
       "      <th style=\"min-width: 12px;\">coef</th>\n",
       "      <th style=\"min-width: 12px;\">exp(coef)</th>\n",
       "      <th style=\"min-width: 12px;\">se(coef)</th>\n",
       "      <th style=\"min-width: 12px;\">coef lower 95%</th>\n",
       "      <th style=\"min-width: 12px;\">coef upper 95%</th>\n",
       "      <th style=\"min-width: 12px;\">exp(coef) lower 95%</th>\n",
       "      <th style=\"min-width: 12px;\">exp(coef) upper 95%</th>\n",
       "      <th style=\"min-width: 12px;\">cmp to</th>\n",
       "      <th style=\"min-width: 12px;\">z</th>\n",
       "      <th style=\"min-width: 12px;\">p</th>\n",
       "      <th style=\"min-width: 12px;\">-log2(p)</th>\n",
       "    </tr>\n",
       "  </thead>\n",
       "  <tbody>\n",
       "    <tr>\n",
       "      <th>AAD_IMPUTED</th>\n",
       "      <td>0.01</td>\n",
       "      <td>1.01</td>\n",
       "      <td>0.02</td>\n",
       "      <td>-0.02</td>\n",
       "      <td>0.05</td>\n",
       "      <td>0.98</td>\n",
       "      <td>1.05</td>\n",
       "      <td>0.00</td>\n",
       "      <td>0.60</td>\n",
       "      <td>0.55</td>\n",
       "      <td>0.87</td>\n",
       "    </tr>\n",
       "    <tr>\n",
       "      <th>SEX</th>\n",
       "      <td>0.24</td>\n",
       "      <td>1.27</td>\n",
       "      <td>0.31</td>\n",
       "      <td>-0.36</td>\n",
       "      <td>0.85</td>\n",
       "      <td>0.70</td>\n",
       "      <td>2.33</td>\n",
       "      <td>0.00</td>\n",
       "      <td>0.79</td>\n",
       "      <td>0.43</td>\n",
       "      <td>1.22</td>\n",
       "    </tr>\n",
       "    <tr>\n",
       "      <th>DIS_DUR</th>\n",
       "      <td>-0.02</td>\n",
       "      <td>0.98</td>\n",
       "      <td>0.06</td>\n",
       "      <td>-0.15</td>\n",
       "      <td>0.10</td>\n",
       "      <td>0.86</td>\n",
       "      <td>1.11</td>\n",
       "      <td>0.00</td>\n",
       "      <td>-0.34</td>\n",
       "      <td>0.73</td>\n",
       "      <td>0.45</td>\n",
       "    </tr>\n",
       "    <tr>\n",
       "      <th>MDSUPDRSIII_BL</th>\n",
       "      <td>0.03</td>\n",
       "      <td>1.03</td>\n",
       "      <td>0.01</td>\n",
       "      <td>0.00</td>\n",
       "      <td>0.05</td>\n",
       "      <td>1.00</td>\n",
       "      <td>1.05</td>\n",
       "      <td>0.00</td>\n",
       "      <td>2.03</td>\n",
       "      <td>0.04</td>\n",
       "      <td>4.55</td>\n",
       "    </tr>\n",
       "  </tbody>\n",
       "</table><br><div>\n",
       "<style scoped>\n",
       "    .dataframe tbody tr th:only-of-type {\n",
       "        vertical-align: middle;\n",
       "    }\n",
       "\n",
       "    .dataframe tbody tr th {\n",
       "        vertical-align: top;\n",
       "    }\n",
       "\n",
       "    .dataframe thead th {\n",
       "        text-align: right;\n",
       "    }\n",
       "</style>\n",
       "<table border=\"1\" class=\"dataframe\">\n",
       "  <tbody>\n",
       "    <tr>\n",
       "      <th>Concordance</th>\n",
       "      <td>0.60</td>\n",
       "    </tr>\n",
       "    <tr>\n",
       "      <th>Partial AIC</th>\n",
       "      <td>488.08</td>\n",
       "    </tr>\n",
       "    <tr>\n",
       "      <th>log-likelihood ratio test</th>\n",
       "      <td>5.40 on 4 df</td>\n",
       "    </tr>\n",
       "    <tr>\n",
       "      <th>-log2(p) of ll-ratio test</th>\n",
       "      <td>2.01</td>\n",
       "    </tr>\n",
       "  </tbody>\n",
       "</table>\n",
       "</div>"
      ],
      "text/latex": [
       "\\begin{tabular}{lrrrrrrrrrrr}\n",
       "\\toprule\n",
       "{} &  coef &  exp(coef) &  se(coef) &  coef lower 95\\% &  coef upper 95\\% &  exp(coef) lower 95\\% &  exp(coef) upper 95\\% &  cmp to &     z &    p &  -log2(p) \\\\\n",
       "covariate      &       &            &           &                 &                 &                      &                      &         &       &      &           \\\\\n",
       "\\midrule\n",
       "AAD\\_IMPUTED    &  0.01 &       1.01 &      0.02 &           -0.02 &            0.05 &                 0.98 &                 1.05 &    0.00 &  0.60 & 0.55 &      0.87 \\\\\n",
       "SEX            &  0.24 &       1.27 &      0.31 &           -0.36 &            0.85 &                 0.70 &                 2.33 &    0.00 &  0.79 & 0.43 &      1.22 \\\\\n",
       "DIS\\_DUR        & -0.02 &       0.98 &      0.06 &           -0.15 &            0.10 &                 0.86 &                 1.11 &    0.00 & -0.34 & 0.73 &      0.45 \\\\\n",
       "MDSUPDRSIII\\_BL &  0.03 &       1.03 &      0.01 &            0.00 &            0.05 &                 1.00 &                 1.05 &    0.00 &  2.03 & 0.04 &      4.55 \\\\\n",
       "\\bottomrule\n",
       "\\end{tabular}\n"
      ],
      "text/plain": [
       "<lifelines.CoxPHFitter: fitted with 330 total observations, 286 right-censored observations>\n",
       "             duration col = 'TIMEMIDPOINT_YEARS'\n",
       "                event col = 'EVENT_DYSK'\n",
       "      baseline estimation = breslow\n",
       "   number of observations = 330\n",
       "number of events observed = 44\n",
       "   partial log-likelihood = -240.04\n",
       "         time fit was run = 2023-04-03 10:13:30 UTC\n",
       "\n",
       "---\n",
       "                 coef  exp(coef)   se(coef)   coef lower 95%   coef upper 95%  exp(coef) lower 95%  exp(coef) upper 95%\n",
       "covariate                                                                                                              \n",
       "AAD_IMPUTED      0.01       1.01       0.02            -0.02             0.05                 0.98                 1.05\n",
       "SEX              0.24       1.27       0.31            -0.36             0.85                 0.70                 2.33\n",
       "DIS_DUR         -0.02       0.98       0.06            -0.15             0.10                 0.86                 1.11\n",
       "MDSUPDRSIII_BL   0.03       1.03       0.01             0.00             0.05                 1.00                 1.05\n",
       "\n",
       "                 cmp to     z    p   -log2(p)\n",
       "covariate                                    \n",
       "AAD_IMPUTED        0.00  0.60 0.55       0.87\n",
       "SEX                0.00  0.79 0.43       1.22\n",
       "DIS_DUR            0.00 -0.34 0.73       0.45\n",
       "MDSUPDRSIII_BL     0.00  2.03 0.04       4.55\n",
       "---\n",
       "Concordance = 0.60\n",
       "Partial AIC = 488.08\n",
       "log-likelihood ratio test = 5.40 on 4 df\n",
       "-log2(p) of ll-ratio test = 2.01"
      ]
     },
     "metadata": {},
     "output_type": "display_data"
    },
    {
     "name": "stdout",
     "output_type": "stream",
     "text": [
      "Proportional hazard assumption looks okay.\n"
     ]
    },
    {
     "data": {
      "text/plain": [
       "[]"
      ]
     },
     "execution_count": 54,
     "metadata": {},
     "output_type": "execute_result"
    }
   ],
   "source": [
    "PDBP_QC_SEXAAD_DISDUR_MDSUPDRSIII = PDBP_QC[[\"TIMEMIDPOINT_YEARS\", \"EVENT_DYSK\", \"AAD_IMPUTED\", \"SEX\", \"DIS_DUR\",\n",
    "                                \"MDSUPDRSIII_BL\"]]\n",
    "\n",
    "cph = CoxPHFitter()\n",
    "cph.fit(PDBP_QC_SEXAAD_DISDUR_MDSUPDRSIII, \"TIMEMIDPOINT_YEARS\", event_col = \"EVENT_DYSK\")\n",
    "cph.print_summary()\n",
    "\n",
    "cph.check_assumptions(PDBP_QC_SEXAAD_DISDUR_MDSUPDRSIII, show_plots=True)"
   ]
  },
  {
   "cell_type": "code",
   "execution_count": 55,
   "metadata": {
    "scrolled": false
   },
   "outputs": [
    {
     "data": {
      "text/html": [
       "<div>\n",
       "<style scoped>\n",
       "    .dataframe tbody tr th:only-of-type {\n",
       "        vertical-align: middle;\n",
       "    }\n",
       "\n",
       "    .dataframe tbody tr th {\n",
       "        vertical-align: top;\n",
       "    }\n",
       "\n",
       "    .dataframe thead th {\n",
       "        text-align: right;\n",
       "    }\n",
       "</style>\n",
       "<table border=\"1\" class=\"dataframe\">\n",
       "  <tbody>\n",
       "    <tr>\n",
       "      <th>model</th>\n",
       "      <td>lifelines.CoxPHFitter</td>\n",
       "    </tr>\n",
       "    <tr>\n",
       "      <th>duration col</th>\n",
       "      <td>'TIMEMIDPOINT_YEARS'</td>\n",
       "    </tr>\n",
       "    <tr>\n",
       "      <th>event col</th>\n",
       "      <td>'EVENT_DYSK'</td>\n",
       "    </tr>\n",
       "    <tr>\n",
       "      <th>baseline estimation</th>\n",
       "      <td>breslow</td>\n",
       "    </tr>\n",
       "    <tr>\n",
       "      <th>number of observations</th>\n",
       "      <td>181</td>\n",
       "    </tr>\n",
       "    <tr>\n",
       "      <th>number of events observed</th>\n",
       "      <td>36</td>\n",
       "    </tr>\n",
       "    <tr>\n",
       "      <th>partial log-likelihood</th>\n",
       "      <td>-173.37</td>\n",
       "    </tr>\n",
       "    <tr>\n",
       "      <th>time fit was run</th>\n",
       "      <td>2023-04-03 10:13:32 UTC</td>\n",
       "    </tr>\n",
       "  </tbody>\n",
       "</table>\n",
       "</div><table border=\"1\" class=\"dataframe\">\n",
       "  <thead>\n",
       "    <tr style=\"text-align: right;\">\n",
       "      <th style=\"min-width: 12px;\"></th>\n",
       "      <th style=\"min-width: 12px;\">coef</th>\n",
       "      <th style=\"min-width: 12px;\">exp(coef)</th>\n",
       "      <th style=\"min-width: 12px;\">se(coef)</th>\n",
       "      <th style=\"min-width: 12px;\">coef lower 95%</th>\n",
       "      <th style=\"min-width: 12px;\">coef upper 95%</th>\n",
       "      <th style=\"min-width: 12px;\">exp(coef) lower 95%</th>\n",
       "      <th style=\"min-width: 12px;\">exp(coef) upper 95%</th>\n",
       "      <th style=\"min-width: 12px;\">cmp to</th>\n",
       "      <th style=\"min-width: 12px;\">z</th>\n",
       "      <th style=\"min-width: 12px;\">p</th>\n",
       "      <th style=\"min-width: 12px;\">-log2(p)</th>\n",
       "    </tr>\n",
       "  </thead>\n",
       "  <tbody>\n",
       "    <tr>\n",
       "      <th>AAD_IMPUTED</th>\n",
       "      <td>0.02</td>\n",
       "      <td>1.02</td>\n",
       "      <td>0.02</td>\n",
       "      <td>-0.02</td>\n",
       "      <td>0.07</td>\n",
       "      <td>0.98</td>\n",
       "      <td>1.07</td>\n",
       "      <td>0.00</td>\n",
       "      <td>1.07</td>\n",
       "      <td>0.28</td>\n",
       "      <td>1.81</td>\n",
       "    </tr>\n",
       "    <tr>\n",
       "      <th>SEX</th>\n",
       "      <td>0.29</td>\n",
       "      <td>1.33</td>\n",
       "      <td>0.35</td>\n",
       "      <td>-0.41</td>\n",
       "      <td>0.98</td>\n",
       "      <td>0.67</td>\n",
       "      <td>2.66</td>\n",
       "      <td>0.00</td>\n",
       "      <td>0.81</td>\n",
       "      <td>0.42</td>\n",
       "      <td>1.26</td>\n",
       "    </tr>\n",
       "    <tr>\n",
       "      <th>DIS_DUR</th>\n",
       "      <td>0.04</td>\n",
       "      <td>1.04</td>\n",
       "      <td>0.07</td>\n",
       "      <td>-0.10</td>\n",
       "      <td>0.18</td>\n",
       "      <td>0.90</td>\n",
       "      <td>1.20</td>\n",
       "      <td>0.00</td>\n",
       "      <td>0.56</td>\n",
       "      <td>0.58</td>\n",
       "      <td>0.80</td>\n",
       "    </tr>\n",
       "    <tr>\n",
       "      <th>MDSUPDRSIII_BL</th>\n",
       "      <td>0.02</td>\n",
       "      <td>1.02</td>\n",
       "      <td>0.01</td>\n",
       "      <td>-0.00</td>\n",
       "      <td>0.05</td>\n",
       "      <td>1.00</td>\n",
       "      <td>1.05</td>\n",
       "      <td>0.00</td>\n",
       "      <td>1.65</td>\n",
       "      <td>0.10</td>\n",
       "      <td>3.33</td>\n",
       "    </tr>\n",
       "    <tr>\n",
       "      <th>DailyLevo</th>\n",
       "      <td>-0.00</td>\n",
       "      <td>1.00</td>\n",
       "      <td>0.00</td>\n",
       "      <td>-0.00</td>\n",
       "      <td>0.00</td>\n",
       "      <td>1.00</td>\n",
       "      <td>1.00</td>\n",
       "      <td>0.00</td>\n",
       "      <td>-0.72</td>\n",
       "      <td>0.47</td>\n",
       "      <td>1.09</td>\n",
       "    </tr>\n",
       "  </tbody>\n",
       "</table><br><div>\n",
       "<style scoped>\n",
       "    .dataframe tbody tr th:only-of-type {\n",
       "        vertical-align: middle;\n",
       "    }\n",
       "\n",
       "    .dataframe tbody tr th {\n",
       "        vertical-align: top;\n",
       "    }\n",
       "\n",
       "    .dataframe thead th {\n",
       "        text-align: right;\n",
       "    }\n",
       "</style>\n",
       "<table border=\"1\" class=\"dataframe\">\n",
       "  <tbody>\n",
       "    <tr>\n",
       "      <th>Concordance</th>\n",
       "      <td>0.61</td>\n",
       "    </tr>\n",
       "    <tr>\n",
       "      <th>Partial AIC</th>\n",
       "      <td>356.74</td>\n",
       "    </tr>\n",
       "    <tr>\n",
       "      <th>log-likelihood ratio test</th>\n",
       "      <td>6.94 on 5 df</td>\n",
       "    </tr>\n",
       "    <tr>\n",
       "      <th>-log2(p) of ll-ratio test</th>\n",
       "      <td>2.15</td>\n",
       "    </tr>\n",
       "  </tbody>\n",
       "</table>\n",
       "</div>"
      ],
      "text/latex": [
       "\\begin{tabular}{lrrrrrrrrrrr}\n",
       "\\toprule\n",
       "{} &  coef &  exp(coef) &  se(coef) &  coef lower 95\\% &  coef upper 95\\% &  exp(coef) lower 95\\% &  exp(coef) upper 95\\% &  cmp to &     z &    p &  -log2(p) \\\\\n",
       "covariate      &       &            &           &                 &                 &                      &                      &         &       &      &           \\\\\n",
       "\\midrule\n",
       "AAD\\_IMPUTED    &  0.02 &       1.02 &      0.02 &           -0.02 &            0.07 &                 0.98 &                 1.07 &    0.00 &  1.07 & 0.28 &      1.81 \\\\\n",
       "SEX            &  0.29 &       1.33 &      0.35 &           -0.41 &            0.98 &                 0.67 &                 2.66 &    0.00 &  0.81 & 0.42 &      1.26 \\\\\n",
       "DIS\\_DUR        &  0.04 &       1.04 &      0.07 &           -0.10 &            0.18 &                 0.90 &                 1.20 &    0.00 &  0.56 & 0.58 &      0.80 \\\\\n",
       "MDSUPDRSIII\\_BL &  0.02 &       1.02 &      0.01 &           -0.00 &            0.05 &                 1.00 &                 1.05 &    0.00 &  1.65 & 0.10 &      3.33 \\\\\n",
       "DailyLevo      & -0.00 &       1.00 &      0.00 &           -0.00 &            0.00 &                 1.00 &                 1.00 &    0.00 & -0.72 & 0.47 &      1.09 \\\\\n",
       "\\bottomrule\n",
       "\\end{tabular}\n"
      ],
      "text/plain": [
       "<lifelines.CoxPHFitter: fitted with 181 total observations, 145 right-censored observations>\n",
       "             duration col = 'TIMEMIDPOINT_YEARS'\n",
       "                event col = 'EVENT_DYSK'\n",
       "      baseline estimation = breslow\n",
       "   number of observations = 181\n",
       "number of events observed = 36\n",
       "   partial log-likelihood = -173.37\n",
       "         time fit was run = 2023-04-03 10:13:32 UTC\n",
       "\n",
       "---\n",
       "                 coef  exp(coef)   se(coef)   coef lower 95%   coef upper 95%  exp(coef) lower 95%  exp(coef) upper 95%\n",
       "covariate                                                                                                              \n",
       "AAD_IMPUTED      0.02       1.02       0.02            -0.02             0.07                 0.98                 1.07\n",
       "SEX              0.29       1.33       0.35            -0.41             0.98                 0.67                 2.66\n",
       "DIS_DUR          0.04       1.04       0.07            -0.10             0.18                 0.90                 1.20\n",
       "MDSUPDRSIII_BL   0.02       1.02       0.01            -0.00             0.05                 1.00                 1.05\n",
       "DailyLevo       -0.00       1.00       0.00            -0.00             0.00                 1.00                 1.00\n",
       "\n",
       "                 cmp to     z    p   -log2(p)\n",
       "covariate                                    \n",
       "AAD_IMPUTED        0.00  1.07 0.28       1.81\n",
       "SEX                0.00  0.81 0.42       1.26\n",
       "DIS_DUR            0.00  0.56 0.58       0.80\n",
       "MDSUPDRSIII_BL     0.00  1.65 0.10       3.33\n",
       "DailyLevo          0.00 -0.72 0.47       1.09\n",
       "---\n",
       "Concordance = 0.61\n",
       "Partial AIC = 356.74\n",
       "log-likelihood ratio test = 6.94 on 5 df\n",
       "-log2(p) of ll-ratio test = 2.15"
      ]
     },
     "metadata": {},
     "output_type": "display_data"
    },
    {
     "name": "stdout",
     "output_type": "stream",
     "text": [
      "Proportional hazard assumption looks okay.\n"
     ]
    },
    {
     "data": {
      "text/plain": [
       "[]"
      ]
     },
     "execution_count": 55,
     "metadata": {},
     "output_type": "execute_result"
    }
   ],
   "source": [
    "PDBP_QC_SEXAAD_DISDUR_MDSUPDRSIII_LDOPA = PDBP_QC[[\"TIMEMIDPOINT_YEARS\", \"EVENT_DYSK\", \"AAD_IMPUTED\", \"SEX\", \"DIS_DUR\",\n",
    "                                \"MDSUPDRSIII_BL\", \"DailyLevo\"]]\n",
    "\n",
    "\n",
    "PDBP_QC_SEXAAD_DISDUR_MDSUPDRSIII_LDOPA = PDBP_QC_SEXAAD_DISDUR_MDSUPDRSIII_LDOPA[PDBP_QC_SEXAAD_DISDUR_MDSUPDRSIII_LDOPA['DailyLevo'].notnull()]\n",
    "\n",
    "cph = CoxPHFitter()\n",
    "cph.fit(PDBP_QC_SEXAAD_DISDUR_MDSUPDRSIII_LDOPA, \"TIMEMIDPOINT_YEARS\", event_col = \"EVENT_DYSK\")\n",
    "cph.print_summary()\n",
    "\n",
    "cph.check_assumptions(PDBP_QC_SEXAAD_DISDUR_MDSUPDRSIII_LDOPA, show_plots=True)"
   ]
  },
  {
   "cell_type": "markdown",
   "metadata": {},
   "source": [
    "### Sensitivity analysis\n",
    "The idea is to exclude people with long disease duration and observe the results"
   ]
  },
  {
   "cell_type": "code",
   "execution_count": 56,
   "metadata": {},
   "outputs": [
    {
     "name": "stdout",
     "output_type": "stream",
     "text": [
      "<class 'pandas.core.frame.DataFrame'>\n",
      "Int64Index: 326 entries, 0 to 329\n",
      "Data columns (total 14 columns):\n",
      " #   Column              Non-Null Count  Dtype  \n",
      "---  ------              --------------  -----  \n",
      " 0   ID                  326 non-null    object \n",
      " 1   age_at_baseline     326 non-null    int64  \n",
      " 2   SEX                 326 non-null    int64  \n",
      " 3   age_at_diagnosis    298 non-null    float64\n",
      " 4   AAD_MISSING         326 non-null    int64  \n",
      " 5   AAD_IMPUTED         326 non-null    float64\n",
      " 6   DIS_DUR             326 non-null    float64\n",
      " 7   LONG_DISDUR         326 non-null    int64  \n",
      " 8   MDSUPDRSIII_BL      326 non-null    float64\n",
      " 9   visit_month         326 non-null    float64\n",
      " 10  TIMEMIDPOINT_YEARS  326 non-null    float64\n",
      " 11  EVENT_DYSK          326 non-null    int64  \n",
      " 12  LEDD                211 non-null    float64\n",
      " 13  DailyLevo           178 non-null    float64\n",
      "dtypes: float64(8), int64(5), object(1)\n",
      "memory usage: 38.2+ KB\n",
      "0    282\n",
      "1     44\n",
      "Name: EVENT_DYSK, dtype: int64\n",
      "0    326\n",
      "Name: LONG_DISDUR, dtype: int64\n"
     ]
    }
   ],
   "source": [
    "PDBP_QC_NODISDUR = PDBP_QC[PDBP_QC.LONG_DISDUR.eq(0)]\n",
    "PDBP_QC_NODISDUR.info()\n",
    "\n",
    "print(PDBP_QC_NODISDUR[\"EVENT_DYSK\"].value_counts())\n",
    "print(PDBP_QC_NODISDUR[\"LONG_DISDUR\"].value_counts())\n",
    "# Check the outcome distribution"
   ]
  },
  {
   "cell_type": "code",
   "execution_count": 57,
   "metadata": {},
   "outputs": [
    {
     "data": {
      "text/html": [
       "<div>\n",
       "<style scoped>\n",
       "    .dataframe tbody tr th:only-of-type {\n",
       "        vertical-align: middle;\n",
       "    }\n",
       "\n",
       "    .dataframe tbody tr th {\n",
       "        vertical-align: top;\n",
       "    }\n",
       "\n",
       "    .dataframe thead th {\n",
       "        text-align: right;\n",
       "    }\n",
       "</style>\n",
       "<table border=\"1\" class=\"dataframe\">\n",
       "  <tbody>\n",
       "    <tr>\n",
       "      <th>model</th>\n",
       "      <td>lifelines.CoxPHFitter</td>\n",
       "    </tr>\n",
       "    <tr>\n",
       "      <th>duration col</th>\n",
       "      <td>'TIMEMIDPOINT_YEARS'</td>\n",
       "    </tr>\n",
       "    <tr>\n",
       "      <th>event col</th>\n",
       "      <td>'EVENT_DYSK'</td>\n",
       "    </tr>\n",
       "    <tr>\n",
       "      <th>baseline estimation</th>\n",
       "      <td>breslow</td>\n",
       "    </tr>\n",
       "    <tr>\n",
       "      <th>number of observations</th>\n",
       "      <td>326</td>\n",
       "    </tr>\n",
       "    <tr>\n",
       "      <th>number of events observed</th>\n",
       "      <td>44</td>\n",
       "    </tr>\n",
       "    <tr>\n",
       "      <th>partial log-likelihood</th>\n",
       "      <td>-239.79</td>\n",
       "    </tr>\n",
       "    <tr>\n",
       "      <th>time fit was run</th>\n",
       "      <td>2023-04-03 10:13:37 UTC</td>\n",
       "    </tr>\n",
       "  </tbody>\n",
       "</table>\n",
       "</div><table border=\"1\" class=\"dataframe\">\n",
       "  <thead>\n",
       "    <tr style=\"text-align: right;\">\n",
       "      <th style=\"min-width: 12px;\"></th>\n",
       "      <th style=\"min-width: 12px;\">coef</th>\n",
       "      <th style=\"min-width: 12px;\">exp(coef)</th>\n",
       "      <th style=\"min-width: 12px;\">se(coef)</th>\n",
       "      <th style=\"min-width: 12px;\">coef lower 95%</th>\n",
       "      <th style=\"min-width: 12px;\">coef upper 95%</th>\n",
       "      <th style=\"min-width: 12px;\">exp(coef) lower 95%</th>\n",
       "      <th style=\"min-width: 12px;\">exp(coef) upper 95%</th>\n",
       "      <th style=\"min-width: 12px;\">cmp to</th>\n",
       "      <th style=\"min-width: 12px;\">z</th>\n",
       "      <th style=\"min-width: 12px;\">p</th>\n",
       "      <th style=\"min-width: 12px;\">-log2(p)</th>\n",
       "    </tr>\n",
       "  </thead>\n",
       "  <tbody>\n",
       "    <tr>\n",
       "      <th>AAD_IMPUTED</th>\n",
       "      <td>0.01</td>\n",
       "      <td>1.01</td>\n",
       "      <td>0.02</td>\n",
       "      <td>-0.02</td>\n",
       "      <td>0.05</td>\n",
       "      <td>0.98</td>\n",
       "      <td>1.05</td>\n",
       "      <td>0.00</td>\n",
       "      <td>0.63</td>\n",
       "      <td>0.53</td>\n",
       "      <td>0.92</td>\n",
       "    </tr>\n",
       "    <tr>\n",
       "      <th>SEX</th>\n",
       "      <td>0.24</td>\n",
       "      <td>1.27</td>\n",
       "      <td>0.31</td>\n",
       "      <td>-0.37</td>\n",
       "      <td>0.84</td>\n",
       "      <td>0.69</td>\n",
       "      <td>2.31</td>\n",
       "      <td>0.00</td>\n",
       "      <td>0.77</td>\n",
       "      <td>0.44</td>\n",
       "      <td>1.18</td>\n",
       "    </tr>\n",
       "    <tr>\n",
       "      <th>DIS_DUR</th>\n",
       "      <td>-0.01</td>\n",
       "      <td>0.99</td>\n",
       "      <td>0.07</td>\n",
       "      <td>-0.14</td>\n",
       "      <td>0.12</td>\n",
       "      <td>0.87</td>\n",
       "      <td>1.12</td>\n",
       "      <td>0.00</td>\n",
       "      <td>-0.18</td>\n",
       "      <td>0.86</td>\n",
       "      <td>0.22</td>\n",
       "    </tr>\n",
       "    <tr>\n",
       "      <th>MDSUPDRSIII_BL</th>\n",
       "      <td>0.03</td>\n",
       "      <td>1.03</td>\n",
       "      <td>0.01</td>\n",
       "      <td>0.00</td>\n",
       "      <td>0.05</td>\n",
       "      <td>1.00</td>\n",
       "      <td>1.05</td>\n",
       "      <td>0.00</td>\n",
       "      <td>2.01</td>\n",
       "      <td>0.04</td>\n",
       "      <td>4.49</td>\n",
       "    </tr>\n",
       "  </tbody>\n",
       "</table><br><div>\n",
       "<style scoped>\n",
       "    .dataframe tbody tr th:only-of-type {\n",
       "        vertical-align: middle;\n",
       "    }\n",
       "\n",
       "    .dataframe tbody tr th {\n",
       "        vertical-align: top;\n",
       "    }\n",
       "\n",
       "    .dataframe thead th {\n",
       "        text-align: right;\n",
       "    }\n",
       "</style>\n",
       "<table border=\"1\" class=\"dataframe\">\n",
       "  <tbody>\n",
       "    <tr>\n",
       "      <th>Concordance</th>\n",
       "      <td>0.60</td>\n",
       "    </tr>\n",
       "    <tr>\n",
       "      <th>Partial AIC</th>\n",
       "      <td>487.58</td>\n",
       "    </tr>\n",
       "    <tr>\n",
       "      <th>log-likelihood ratio test</th>\n",
       "      <td>5.41 on 4 df</td>\n",
       "    </tr>\n",
       "    <tr>\n",
       "      <th>-log2(p) of ll-ratio test</th>\n",
       "      <td>2.01</td>\n",
       "    </tr>\n",
       "  </tbody>\n",
       "</table>\n",
       "</div>"
      ],
      "text/latex": [
       "\\begin{tabular}{lrrrrrrrrrrr}\n",
       "\\toprule\n",
       "{} &  coef &  exp(coef) &  se(coef) &  coef lower 95\\% &  coef upper 95\\% &  exp(coef) lower 95\\% &  exp(coef) upper 95\\% &  cmp to &     z &    p &  -log2(p) \\\\\n",
       "covariate      &       &            &           &                 &                 &                      &                      &         &       &      &           \\\\\n",
       "\\midrule\n",
       "AAD\\_IMPUTED    &  0.01 &       1.01 &      0.02 &           -0.02 &            0.05 &                 0.98 &                 1.05 &    0.00 &  0.63 & 0.53 &      0.92 \\\\\n",
       "SEX            &  0.24 &       1.27 &      0.31 &           -0.37 &            0.84 &                 0.69 &                 2.31 &    0.00 &  0.77 & 0.44 &      1.18 \\\\\n",
       "DIS\\_DUR        & -0.01 &       0.99 &      0.07 &           -0.14 &            0.12 &                 0.87 &                 1.12 &    0.00 & -0.18 & 0.86 &      0.22 \\\\\n",
       "MDSUPDRSIII\\_BL &  0.03 &       1.03 &      0.01 &            0.00 &            0.05 &                 1.00 &                 1.05 &    0.00 &  2.01 & 0.04 &      4.49 \\\\\n",
       "\\bottomrule\n",
       "\\end{tabular}\n"
      ],
      "text/plain": [
       "<lifelines.CoxPHFitter: fitted with 326 total observations, 282 right-censored observations>\n",
       "             duration col = 'TIMEMIDPOINT_YEARS'\n",
       "                event col = 'EVENT_DYSK'\n",
       "      baseline estimation = breslow\n",
       "   number of observations = 326\n",
       "number of events observed = 44\n",
       "   partial log-likelihood = -239.79\n",
       "         time fit was run = 2023-04-03 10:13:37 UTC\n",
       "\n",
       "---\n",
       "                 coef  exp(coef)   se(coef)   coef lower 95%   coef upper 95%  exp(coef) lower 95%  exp(coef) upper 95%\n",
       "covariate                                                                                                              \n",
       "AAD_IMPUTED      0.01       1.01       0.02            -0.02             0.05                 0.98                 1.05\n",
       "SEX              0.24       1.27       0.31            -0.37             0.84                 0.69                 2.31\n",
       "DIS_DUR         -0.01       0.99       0.07            -0.14             0.12                 0.87                 1.12\n",
       "MDSUPDRSIII_BL   0.03       1.03       0.01             0.00             0.05                 1.00                 1.05\n",
       "\n",
       "                 cmp to     z    p   -log2(p)\n",
       "covariate                                    \n",
       "AAD_IMPUTED        0.00  0.63 0.53       0.92\n",
       "SEX                0.00  0.77 0.44       1.18\n",
       "DIS_DUR            0.00 -0.18 0.86       0.22\n",
       "MDSUPDRSIII_BL     0.00  2.01 0.04       4.49\n",
       "---\n",
       "Concordance = 0.60\n",
       "Partial AIC = 487.58\n",
       "log-likelihood ratio test = 5.41 on 4 df\n",
       "-log2(p) of ll-ratio test = 2.01"
      ]
     },
     "metadata": {},
     "output_type": "display_data"
    },
    {
     "name": "stdout",
     "output_type": "stream",
     "text": [
      "Proportional hazard assumption looks okay.\n"
     ]
    },
    {
     "data": {
      "text/plain": [
       "[]"
      ]
     },
     "execution_count": 57,
     "metadata": {},
     "output_type": "execute_result"
    }
   ],
   "source": [
    "PDBP_QC_SEXAAD_DISDUR_MDSUPDRSIII = PDBP_QC_NODISDUR[[\"TIMEMIDPOINT_YEARS\", \"EVENT_DYSK\", \"AAD_IMPUTED\", \"SEX\", \"DIS_DUR\",\n",
    "                                \"MDSUPDRSIII_BL\"]]\n",
    "\n",
    "cph = CoxPHFitter()\n",
    "cph.fit(PDBP_QC_SEXAAD_DISDUR_MDSUPDRSIII, \"TIMEMIDPOINT_YEARS\", event_col = \"EVENT_DYSK\")\n",
    "cph.print_summary()\n",
    "\n",
    "cph.check_assumptions(PDBP_QC_SEXAAD_DISDUR_MDSUPDRSIII, show_plots=True)"
   ]
  },
  {
   "cell_type": "code",
   "execution_count": 58,
   "metadata": {},
   "outputs": [
    {
     "data": {
      "text/html": [
       "<div>\n",
       "<style scoped>\n",
       "    .dataframe tbody tr th:only-of-type {\n",
       "        vertical-align: middle;\n",
       "    }\n",
       "\n",
       "    .dataframe tbody tr th {\n",
       "        vertical-align: top;\n",
       "    }\n",
       "\n",
       "    .dataframe thead th {\n",
       "        text-align: right;\n",
       "    }\n",
       "</style>\n",
       "<table border=\"1\" class=\"dataframe\">\n",
       "  <tbody>\n",
       "    <tr>\n",
       "      <th>model</th>\n",
       "      <td>lifelines.CoxPHFitter</td>\n",
       "    </tr>\n",
       "    <tr>\n",
       "      <th>duration col</th>\n",
       "      <td>'TIMEMIDPOINT_YEARS'</td>\n",
       "    </tr>\n",
       "    <tr>\n",
       "      <th>event col</th>\n",
       "      <td>'EVENT_DYSK'</td>\n",
       "    </tr>\n",
       "    <tr>\n",
       "      <th>baseline estimation</th>\n",
       "      <td>breslow</td>\n",
       "    </tr>\n",
       "    <tr>\n",
       "      <th>number of observations</th>\n",
       "      <td>178</td>\n",
       "    </tr>\n",
       "    <tr>\n",
       "      <th>number of events observed</th>\n",
       "      <td>36</td>\n",
       "    </tr>\n",
       "    <tr>\n",
       "      <th>partial log-likelihood</th>\n",
       "      <td>-172.86</td>\n",
       "    </tr>\n",
       "    <tr>\n",
       "      <th>time fit was run</th>\n",
       "      <td>2023-04-03 10:13:39 UTC</td>\n",
       "    </tr>\n",
       "  </tbody>\n",
       "</table>\n",
       "</div><table border=\"1\" class=\"dataframe\">\n",
       "  <thead>\n",
       "    <tr style=\"text-align: right;\">\n",
       "      <th style=\"min-width: 12px;\"></th>\n",
       "      <th style=\"min-width: 12px;\">coef</th>\n",
       "      <th style=\"min-width: 12px;\">exp(coef)</th>\n",
       "      <th style=\"min-width: 12px;\">se(coef)</th>\n",
       "      <th style=\"min-width: 12px;\">coef lower 95%</th>\n",
       "      <th style=\"min-width: 12px;\">coef upper 95%</th>\n",
       "      <th style=\"min-width: 12px;\">exp(coef) lower 95%</th>\n",
       "      <th style=\"min-width: 12px;\">exp(coef) upper 95%</th>\n",
       "      <th style=\"min-width: 12px;\">cmp to</th>\n",
       "      <th style=\"min-width: 12px;\">z</th>\n",
       "      <th style=\"min-width: 12px;\">p</th>\n",
       "      <th style=\"min-width: 12px;\">-log2(p)</th>\n",
       "    </tr>\n",
       "  </thead>\n",
       "  <tbody>\n",
       "    <tr>\n",
       "      <th>AAD_IMPUTED</th>\n",
       "      <td>0.03</td>\n",
       "      <td>1.03</td>\n",
       "      <td>0.02</td>\n",
       "      <td>-0.02</td>\n",
       "      <td>0.07</td>\n",
       "      <td>0.98</td>\n",
       "      <td>1.07</td>\n",
       "      <td>0.00</td>\n",
       "      <td>1.13</td>\n",
       "      <td>0.26</td>\n",
       "      <td>1.95</td>\n",
       "    </tr>\n",
       "    <tr>\n",
       "      <th>SEX</th>\n",
       "      <td>0.27</td>\n",
       "      <td>1.31</td>\n",
       "      <td>0.35</td>\n",
       "      <td>-0.42</td>\n",
       "      <td>0.96</td>\n",
       "      <td>0.66</td>\n",
       "      <td>2.62</td>\n",
       "      <td>0.00</td>\n",
       "      <td>0.77</td>\n",
       "      <td>0.44</td>\n",
       "      <td>1.18</td>\n",
       "    </tr>\n",
       "    <tr>\n",
       "      <th>DIS_DUR</th>\n",
       "      <td>0.07</td>\n",
       "      <td>1.07</td>\n",
       "      <td>0.08</td>\n",
       "      <td>-0.09</td>\n",
       "      <td>0.22</td>\n",
       "      <td>0.91</td>\n",
       "      <td>1.25</td>\n",
       "      <td>0.00</td>\n",
       "      <td>0.82</td>\n",
       "      <td>0.41</td>\n",
       "      <td>1.29</td>\n",
       "    </tr>\n",
       "    <tr>\n",
       "      <th>MDSUPDRSIII_BL</th>\n",
       "      <td>0.02</td>\n",
       "      <td>1.02</td>\n",
       "      <td>0.01</td>\n",
       "      <td>-0.01</td>\n",
       "      <td>0.05</td>\n",
       "      <td>0.99</td>\n",
       "      <td>1.05</td>\n",
       "      <td>0.00</td>\n",
       "      <td>1.55</td>\n",
       "      <td>0.12</td>\n",
       "      <td>3.03</td>\n",
       "    </tr>\n",
       "    <tr>\n",
       "      <th>DailyLevo</th>\n",
       "      <td>-0.00</td>\n",
       "      <td>1.00</td>\n",
       "      <td>0.00</td>\n",
       "      <td>-0.00</td>\n",
       "      <td>0.00</td>\n",
       "      <td>1.00</td>\n",
       "      <td>1.00</td>\n",
       "      <td>0.00</td>\n",
       "      <td>-0.75</td>\n",
       "      <td>0.46</td>\n",
       "      <td>1.14</td>\n",
       "    </tr>\n",
       "  </tbody>\n",
       "</table><br><div>\n",
       "<style scoped>\n",
       "    .dataframe tbody tr th:only-of-type {\n",
       "        vertical-align: middle;\n",
       "    }\n",
       "\n",
       "    .dataframe tbody tr th {\n",
       "        vertical-align: top;\n",
       "    }\n",
       "\n",
       "    .dataframe thead th {\n",
       "        text-align: right;\n",
       "    }\n",
       "</style>\n",
       "<table border=\"1\" class=\"dataframe\">\n",
       "  <tbody>\n",
       "    <tr>\n",
       "      <th>Concordance</th>\n",
       "      <td>0.61</td>\n",
       "    </tr>\n",
       "    <tr>\n",
       "      <th>Partial AIC</th>\n",
       "      <td>355.71</td>\n",
       "    </tr>\n",
       "    <tr>\n",
       "      <th>log-likelihood ratio test</th>\n",
       "      <td>7.29 on 5 df</td>\n",
       "    </tr>\n",
       "    <tr>\n",
       "      <th>-log2(p) of ll-ratio test</th>\n",
       "      <td>2.32</td>\n",
       "    </tr>\n",
       "  </tbody>\n",
       "</table>\n",
       "</div>"
      ],
      "text/latex": [
       "\\begin{tabular}{lrrrrrrrrrrr}\n",
       "\\toprule\n",
       "{} &  coef &  exp(coef) &  se(coef) &  coef lower 95\\% &  coef upper 95\\% &  exp(coef) lower 95\\% &  exp(coef) upper 95\\% &  cmp to &     z &    p &  -log2(p) \\\\\n",
       "covariate      &       &            &           &                 &                 &                      &                      &         &       &      &           \\\\\n",
       "\\midrule\n",
       "AAD\\_IMPUTED    &  0.03 &       1.03 &      0.02 &           -0.02 &            0.07 &                 0.98 &                 1.07 &    0.00 &  1.13 & 0.26 &      1.95 \\\\\n",
       "SEX            &  0.27 &       1.31 &      0.35 &           -0.42 &            0.96 &                 0.66 &                 2.62 &    0.00 &  0.77 & 0.44 &      1.18 \\\\\n",
       "DIS\\_DUR        &  0.07 &       1.07 &      0.08 &           -0.09 &            0.22 &                 0.91 &                 1.25 &    0.00 &  0.82 & 0.41 &      1.29 \\\\\n",
       "MDSUPDRSIII\\_BL &  0.02 &       1.02 &      0.01 &           -0.01 &            0.05 &                 0.99 &                 1.05 &    0.00 &  1.55 & 0.12 &      3.03 \\\\\n",
       "DailyLevo      & -0.00 &       1.00 &      0.00 &           -0.00 &            0.00 &                 1.00 &                 1.00 &    0.00 & -0.75 & 0.46 &      1.14 \\\\\n",
       "\\bottomrule\n",
       "\\end{tabular}\n"
      ],
      "text/plain": [
       "<lifelines.CoxPHFitter: fitted with 178 total observations, 142 right-censored observations>\n",
       "             duration col = 'TIMEMIDPOINT_YEARS'\n",
       "                event col = 'EVENT_DYSK'\n",
       "      baseline estimation = breslow\n",
       "   number of observations = 178\n",
       "number of events observed = 36\n",
       "   partial log-likelihood = -172.86\n",
       "         time fit was run = 2023-04-03 10:13:39 UTC\n",
       "\n",
       "---\n",
       "                 coef  exp(coef)   se(coef)   coef lower 95%   coef upper 95%  exp(coef) lower 95%  exp(coef) upper 95%\n",
       "covariate                                                                                                              \n",
       "AAD_IMPUTED      0.03       1.03       0.02            -0.02             0.07                 0.98                 1.07\n",
       "SEX              0.27       1.31       0.35            -0.42             0.96                 0.66                 2.62\n",
       "DIS_DUR          0.07       1.07       0.08            -0.09             0.22                 0.91                 1.25\n",
       "MDSUPDRSIII_BL   0.02       1.02       0.01            -0.01             0.05                 0.99                 1.05\n",
       "DailyLevo       -0.00       1.00       0.00            -0.00             0.00                 1.00                 1.00\n",
       "\n",
       "                 cmp to     z    p   -log2(p)\n",
       "covariate                                    \n",
       "AAD_IMPUTED        0.00  1.13 0.26       1.95\n",
       "SEX                0.00  0.77 0.44       1.18\n",
       "DIS_DUR            0.00  0.82 0.41       1.29\n",
       "MDSUPDRSIII_BL     0.00  1.55 0.12       3.03\n",
       "DailyLevo          0.00 -0.75 0.46       1.14\n",
       "---\n",
       "Concordance = 0.61\n",
       "Partial AIC = 355.71\n",
       "log-likelihood ratio test = 7.29 on 5 df\n",
       "-log2(p) of ll-ratio test = 2.32"
      ]
     },
     "metadata": {},
     "output_type": "display_data"
    },
    {
     "name": "stdout",
     "output_type": "stream",
     "text": [
      "Proportional hazard assumption looks okay.\n"
     ]
    },
    {
     "data": {
      "text/plain": [
       "[]"
      ]
     },
     "execution_count": 58,
     "metadata": {},
     "output_type": "execute_result"
    }
   ],
   "source": [
    "PDBP_QC_SEXAAD_DISDUR_MDSUPDRSIII_LDOPA = PDBP_QC_NODISDUR[[\"TIMEMIDPOINT_YEARS\", \"EVENT_DYSK\", \"AAD_IMPUTED\", \"SEX\", \"DIS_DUR\",\n",
    "                                \"MDSUPDRSIII_BL\", \"DailyLevo\"]]\n",
    "\n",
    "\n",
    "PDBP_QC_SEXAAD_DISDUR_MDSUPDRSIII_LDOPA = PDBP_QC_SEXAAD_DISDUR_MDSUPDRSIII_LDOPA[PDBP_QC_SEXAAD_DISDUR_MDSUPDRSIII_LDOPA['DailyLevo'].notnull()]\n",
    "\n",
    "\n",
    "cph = CoxPHFitter()\n",
    "cph.fit(PDBP_QC_SEXAAD_DISDUR_MDSUPDRSIII_LDOPA, \"TIMEMIDPOINT_YEARS\", event_col = \"EVENT_DYSK\")\n",
    "cph.print_summary()\n",
    "\n",
    "cph.check_assumptions(PDBP_QC_SEXAAD_DISDUR_MDSUPDRSIII_LDOPA, show_plots=True)"
   ]
  },
  {
   "cell_type": "markdown",
   "metadata": {},
   "source": [
    "## SAVE PDBPD after QC\n"
   ]
  },
  {
   "cell_type": "code",
   "execution_count": 59,
   "metadata": {},
   "outputs": [
    {
     "name": "stdout",
     "output_type": "stream",
     "text": [
      "Executing: gsutil ls gs://fc-509fb8f7-9df1-43ec-805d-e976c08ce034\n",
      "gs://fc-509fb8f7-9df1-43ec-805d-e976c08ce034/clinical_data/\n",
      "gs://fc-509fb8f7-9df1-43ec-805d-e976c08ce034/covar_files/\n",
      "gs://fc-509fb8f7-9df1-43ec-805d-e976c08ce034/notebooks/\n"
     ]
    }
   ],
   "source": [
    "shell_do(f'gsutil ls {WORKSPACE_BUCKET}')\n",
    "ledd_levo = gcs_read_csv(os.path.join(WORKSPACE_BUCKET, 'clinical_data/PDBP_derived_ledd.csv'))"
   ]
  },
  {
   "cell_type": "code",
   "execution_count": 60,
   "metadata": {
    "code_folding": []
   },
   "outputs": [],
   "source": [
    "# Save our merged dataframe out to a .csv and .txt file\n",
    "csv_output = \"PDBP_LID.csv\"\n",
    "txt_output = \"PDBP_LID.txt\"\n",
    "PDBP_QC.to_csv(csv_output, index=False, sep=\",\")\n",
    "PDBP_QC.to_csv(txt_output, index=False, sep=\"\\t\")"
   ]
  },
  {
   "cell_type": "code",
   "execution_count": 61,
   "metadata": {},
   "outputs": [
    {
     "name": "stdout",
     "output_type": "stream",
     "text": [
      "Executing: gsutil ls gs://fc-509fb8f7-9df1-43ec-805d-e976c08ce034\n",
      "gs://fc-509fb8f7-9df1-43ec-805d-e976c08ce034/clinical_data/\n",
      "gs://fc-509fb8f7-9df1-43ec-805d-e976c08ce034/covar_files/\n",
      "gs://fc-509fb8f7-9df1-43ec-805d-e976c08ce034/notebooks/\n"
     ]
    }
   ],
   "source": [
    "\n",
    "shell_do(f'gsutil ls {WORKSPACE_BUCKET}')"
   ]
  },
  {
   "cell_type": "code",
   "execution_count": 62,
   "metadata": {},
   "outputs": [
    {
     "name": "stdout",
     "output_type": "stream",
     "text": [
      "Executing: gsutil -u terra-1cae21c2 -m cp PDBP_LID.csv gs://fc-509fb8f7-9df1-43ec-805d-e976c08ce034/clinical_data/\n",
      "Copying file://PDBP_LID.csv [Content-Type=text/csv]...\n",
      "/ [1/1 files][ 20.6 KiB/ 20.6 KiB] 100% Done                                    \n",
      "Operation completed over 1 objects/20.6 KiB.                                     \n",
      "Executing: gsutil -u terra-1cae21c2 -m cp PDBP_LID.txt gs://fc-509fb8f7-9df1-43ec-805d-e976c08ce034/clinical_data/\n",
      "Copying file://PDBP_LID.txt [Content-Type=text/plain]...\n",
      "/ [1/1 files][ 20.6 KiB/ 20.6 KiB] 100% Done                                    \n",
      "Operation completed over 1 objects/20.6 KiB.                                     \n"
     ]
    }
   ],
   "source": [
    "# Save this file to a new directory in your cloud storage \n",
    "shell_do(f'gsutil -u {BILLING_PROJECT_ID} -m cp {csv_output} {WORKSPACE_BUCKET}/clinical_data/')\n",
    "shell_do(f'gsutil -u {BILLING_PROJECT_ID} -m cp {txt_output} {WORKSPACE_BUCKET}/clinical_data/')"
   ]
  }
 ],
 "metadata": {
  "kernelspec": {
   "display_name": "Python 3",
   "language": "python",
   "name": "python3"
  },
  "language_info": {
   "codemirror_mode": {
    "name": "ipython",
    "version": 3
   },
   "file_extension": ".py",
   "mimetype": "text/x-python",
   "name": "python",
   "nbconvert_exporter": "python",
   "pygments_lexer": "ipython3",
   "version": "3.7.12"
  },
  "toc": {
   "base_numbering": 1,
   "nav_menu": {},
   "number_sections": true,
   "sideBar": true,
   "skip_h1_title": false,
   "title_cell": "Table of Contents",
   "title_sidebar": "Contents",
   "toc_cell": false,
   "toc_position": {
    "height": "calc(100% - 180px)",
    "left": "10px",
    "top": "150px",
    "width": "289.825px"
   },
   "toc_section_display": true,
   "toc_window_display": true
  }
 },
 "nbformat": 4,
 "nbformat_minor": 2
}
